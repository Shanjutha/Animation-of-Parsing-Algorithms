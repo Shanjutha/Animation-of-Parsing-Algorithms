{
 "cells": [
  {
   "cell_type": "markdown",
   "metadata": {},
   "source": [
    "# Animating the Execution of Nondeterministic Finite State Machines"
   ]
  },
  {
   "cell_type": "markdown",
   "metadata": {},
   "source": [
    "Import `gvanim`, which was installed using `pip install GraphvizAnim`. This module is used to generate the interactive animations."
   ]
  },
  {
   "cell_type": "code",
   "execution_count": 8,
   "metadata": {},
   "outputs": [],
   "source": [
    "from gvanim import Animation\n",
    "from gvanim.jupyter import interactive\n",
    "ga = Animation() # variable used to represent the animation "
   ]
  },
  {
   "cell_type": "markdown",
   "metadata": {},
   "source": [
    "In the section below, we introduce all the classes and methods needed to produce a Nondeterministic Finite State Machine. These methods were referenced from the lecture notes (02 Regular Languages). "
   ]
  },
  {
   "cell_type": "code",
   "execution_count": 2,
   "metadata": {},
   "outputs": [],
   "source": [
    "class FiniteStateMachine:\n",
    "    def __init__(self, T, Q, R, q0, F):\n",
    "        self.T, self.Q, self.R, self.q0, self.F = T, Q, R, q0, F\n",
    "    def __repr__(self):\n",
    "        return str(self.q0) + '\\n' + ' '.join(self.F) + '\\n' + \\\n",
    "               '\\n'.join(r[0] + ' ' + r[1] + ' → ' + r[2] for r in self.R)\n",
    "\n",
    "def parseFSM(fsm: str) -> FiniteStateMachine:\n",
    "    fsm = [line for line in fsm.split('\\n') if line.strip() != '']\n",
    "    q0 = fsm[0].split()[0] # first line: initialstate\n",
    "    F = set(fsm[1].split()) # second line: finalstate, finalstate, ...\n",
    "    R = set()\n",
    "    for line in fsm[2:]: # all subsequent lines: \"source symbol → target\"\n",
    "        l, r = line.split('→')\n",
    "        R |= {(l.split()[0], l.split()[1], r.split()[0])}\n",
    "    T = {r[1] for r in R}\n",
    "    Q = {q0} | F | {r[0] for r in R} | {r[2] for r in R}\n",
    "    return FiniteStateMachine(T, Q, R, q0, F)\n",
    "\n",
    "class Choice:\n",
    "    def __init__(self, e1, e2): self.e1, self.e2 = e1, e2\n",
    "class Conc:\n",
    "    def __init__(self, e1, e2): self.e1, self.e2 = e1, e2\n",
    "class Star:\n",
    "    def __init__(self, e): self.e = e\n",
    "        \n",
    "def syntaxgraph(re):\n",
    "    global node, T\n",
    "    if re == '': return {(None, None)}\n",
    "    elif type(re) == str:\n",
    "        node += 1; T.add(re); return {(None, (re, str(node))), ((re, str(node)), None)}\n",
    "    elif type(re) == Choice:\n",
    "        return syntaxgraph(re.e1) | syntaxgraph(re.e2)\n",
    "    elif type(re) == Conc:\n",
    "        g1, g2 = syntaxgraph(re.e1), syntaxgraph(re.e2)\n",
    "        return {(a, b) for (a, b) in g1 if b} | \\\n",
    "               {(a, b) for (a, b) in g2 if a} | \\\n",
    "               {(a, b) for (a, c) in g1 for (d, b) in g2 if not c and not d}\n",
    "    elif type(re) == Star:\n",
    "        g = syntaxgraph(re.e)\n",
    "        return {(None, None)} | g | \\\n",
    "               {(a, b) for (a, c) in g for (d, b) in g if not c and not d}\n",
    "    else: raise Exception('not a regular expression')\n",
    "        \n",
    "def convertRegExToFSM(re):\n",
    "    global node, T; node, T = 0, set()\n",
    "    g = syntaxgraph(re)\n",
    "    Q = {str(n) for n in range(node + 1)}\n",
    "    R = {('0', b[0], b[1]) for (a, b) in g if not a and b} | \\\n",
    "        {(a[1], b[0], b[1]) for (a, b) in g if a and b}\n",
    "    F = {a[1] for (a, b) in g if a and not b} | ({'0'} if (None, None) in g else set())\n",
    "    output = FiniteStateMachine(T, Q, R, '0', F)\n",
    "    output = str(output)\n",
    "    return output"
   ]
  },
  {
   "cell_type": "markdown",
   "metadata": {},
   "source": [
    "###### Defining the Nondeterministic FSM "
   ]
  },
  {
   "cell_type": "markdown",
   "metadata": {},
   "source": [
    "First, we need to define the NFA using the methods defined above. We do this by defining a regular expression, and convert that regex into an FSM using `convertRegExToFSM()`. We also split the FSM into a list of strings. "
   ]
  },
  {
   "cell_type": "code",
   "execution_count": 3,
   "metadata": {},
   "outputs": [
    {
     "name": "stdout",
     "output_type": "stream",
     "text": [
      "['0', '2 4', '0 a → 1', '3 c → 4', '1 b → 2', '0 a → 3']\n",
      "0\n",
      "2 4\n",
      "0 a → 1\n",
      "3 c → 4\n",
      "1 b → 2\n",
      "0 a → 3\n"
     ]
    }
   ],
   "source": [
    "E3 = Choice(Conc('a', 'b'), Conc('a', 'c')); A3 = convertRegExToFSM(E3); A3 = A3.splitlines()\n",
    "print(A3)\n",
    "for i in A3:\n",
    "    print(i)\n",
    "# start state = 0 \n",
    "# final states = 2, 4\n",
    "# transitions = a, b, c \n",
    "# all states = 0, 1, 2, 3, 4 "
   ]
  },
  {
   "cell_type": "markdown",
   "metadata": {},
   "source": [
    "### Printing the Model:"
   ]
  },
  {
   "cell_type": "markdown",
   "metadata": {},
   "source": [
    "In this section, we define a method for printing a model of the NFA.<br> \n",
    "The method `printNFSM(A)` takes a list of strings as input and produces a model of the NFA, constructed from a series of edges and nodes.  "
   ]
  },
  {
   "cell_type": "code",
   "execution_count": 4,
   "metadata": {},
   "outputs": [
    {
     "data": {
      "text/plain": [
       "[['0', 'a', '1'], ['3', 'c', '4'], ['1', 'b', '2'], ['0', 'a', '3']]"
      ]
     },
     "execution_count": 4,
     "metadata": {},
     "output_type": "execute_result"
    }
   ],
   "source": [
    "def printNFSM(A):\n",
    "    event = [] # order of events\n",
    "    if type(A) == list: # only proceeds if input is correct type  \n",
    "        for i in range(2,len(A)):\n",
    "            if type(A[i]) == str: # only proceeds if input is list of strings \n",
    "                old = A[i][0:1] \n",
    "                transition = A[i][2:3] \n",
    "                new = A[i][A[i].find(\"→\")+2:]\n",
    "                ga.add_edge(old,new) # extend edge from old to new \n",
    "                ga.label_edge(old,new,transition) # add label for transition \n",
    "                event.append([old,transition,new]) \n",
    "            else: # returns error message if incorrect type  \n",
    "                raise Exception('error: list of strings expected')\n",
    "        return (event) \n",
    "    else: # returns error message if input type is incorrect \n",
    "        raise Exception('error: list expected')\n",
    "        \n",
    "printNFSM(A3)"
   ]
  },
  {
   "cell_type": "markdown",
   "metadata": {},
   "source": [
    "### Animating the Model:"
   ]
  },
  {
   "cell_type": "markdown",
   "metadata": {},
   "source": [
    "In this stage, we define a method for animating the model of the NFA.<br> \n",
    "The method `animateNFSM(A)` takes a list of strings as input, and calls the previous defined method `printNFSM(A)` using this input. It iterates through the list of lists outputted from `printNFSM(A)`, highlighting each old state, transition, and new state in the NFA. "
   ]
  },
  {
   "cell_type": "code",
   "execution_count": 5,
   "metadata": {},
   "outputs": [
    {
     "data": {
      "text/plain": [
       "[['0', 'a', '1'], ['1', 'b', '2'], ['0', 'a', '3'], ['3', 'c', '4']]"
      ]
     },
     "execution_count": 5,
     "metadata": {},
     "output_type": "execute_result"
    }
   ],
   "source": [
    "def animateNFSM(A):\n",
    "    if type(A) == list: # only proceeds if input is correct type \n",
    "        start = list(A[0].strip(\"{}\")) # list of starting states\n",
    "        final = A[1].replace('{','').replace('}','').split(' ') # list of final states\n",
    "        event = printNFSM(A) # calls printNFSM(), and uses the output it generates \n",
    "        next = []\n",
    "        event.sort(key = lambda event: event[2]) \n",
    "        for i in event: \n",
    "            if type(i) == list: # only proceeds if input is list of lists \n",
    "                ga.highlight_node(i[0]) # highlights old state \n",
    "                ga.next_step()\n",
    "                ga.highlight_edge(i[0],i[2]) # highlights edge \n",
    "                ga.next_step()\n",
    "                ga.highlight_node(i[2]) # highlights new state \n",
    "            else: # returns error message if incorrect type\n",
    "                raise Exception('error: list expected')\n",
    "        return event\n",
    "    else: # returns error message if input type is incorrect \n",
    "        raise Exception('error: list expected')    \n",
    "\n",
    "animateNFSM(A3)"
   ]
  },
  {
   "cell_type": "markdown",
   "metadata": {},
   "source": [
    "### Running the Animation:"
   ]
  },
  {
   "cell_type": "markdown",
   "metadata": {},
   "source": [
    "Here, we call the method `interactive()`, which was imported with the module `gvanim`. This method generates the interative animation using the previously defined methods, `printNFSM()` and `animateNFSM()`.\n",
    "\n",
    "Move the slider from left to right to view the animation of the NFA. "
   ]
  },
  {
   "cell_type": "code",
   "execution_count": 9,
   "metadata": {
    "scrolled": false
   },
   "outputs": [
    {
     "data": {
      "application/vnd.jupyter.widget-view+json": {
       "model_id": "ac651bfecf5e411782ff16a3c071bac8",
       "version_major": 2,
       "version_minor": 0
      },
      "text/plain": [
       "interactive(children=(IntSlider(value=0, description='n', max=0), Output()), _dom_classes=('widget-interact',)…"
      ]
     },
     "metadata": {},
     "output_type": "display_data"
    }
   ],
   "source": [
    "interactive( ga, 600 )"
   ]
  },
  {
   "cell_type": "code",
   "execution_count": null,
   "metadata": {},
   "outputs": [],
   "source": []
  }
 ],
 "metadata": {
  "kernelspec": {
   "display_name": "Python 3",
   "language": "python",
   "name": "python3"
  },
  "language_info": {
   "codemirror_mode": {
    "name": "ipython",
    "version": 3
   },
   "file_extension": ".py",
   "mimetype": "text/x-python",
   "name": "python",
   "nbconvert_exporter": "python",
   "pygments_lexer": "ipython3",
   "version": "3.8.1"
  }
 },
 "nbformat": 4,
 "nbformat_minor": 4
}
