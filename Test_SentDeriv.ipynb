{
 "cells": [
  {
   "cell_type": "markdown",
   "metadata": {},
   "source": [
    "# Testing for Sentence Derivations"
   ]
  },
  {
   "cell_type": "code",
   "execution_count": 1,
   "metadata": {},
   "outputs": [
    {
     "name": "stdout",
     "output_type": "stream",
     "text": [
      "(S (NP (Art the) (N rabbit)) (VP (V runs) (Adv quickly)))\n"
     ]
    }
   ],
   "source": [
    "from ipynb.fs.full.SentenceDerivation import *\n",
    "import timeit"
   ]
  },
  {
   "cell_type": "code",
   "execution_count": 2,
   "metadata": {},
   "outputs": [],
   "source": [
    "def test_printTree(s):\n",
    "    try: return str(printTree(s))\n",
    "    except Exception as e:\n",
    "        print(e)\n",
    "        \n",
    "def test_animateTree(s):\n",
    "    try: return str(animate(s))\n",
    "    except Exception as e:\n",
    "        print(e)"
   ]
  },
  {
   "cell_type": "markdown",
   "metadata": {},
   "source": [
    "####  Testing printTree():\n",
    "\n",
    "The following tests should return `True`. "
   ]
  },
  {
   "cell_type": "code",
   "execution_count": 3,
   "metadata": {},
   "outputs": [
    {
     "data": {
      "text/plain": [
       "True"
      ]
     },
     "execution_count": 3,
     "metadata": {},
     "output_type": "execute_result"
    }
   ],
   "source": [
    "import nltk\n",
    "groucho_grammar = nltk.CFG.fromstring(\"\"\"\n",
    "S -> NP VP\n",
    "PP -> P NP\n",
    "NP -> Det N | Det N PP | 'I'\n",
    "VP -> V NP | VP PP\n",
    "Det -> 'an' | 'my'\n",
    "N -> 'elephant' | 'pajamas'\n",
    "V -> 'shot'\n",
    "P -> 'in'\n",
    "\"\"\")\n",
    "parser = nltk.ChartParser(groucho_grammar)\n",
    "trees1 = list(parser.parse(['I', 'shot', 'an', 'elephant']))\n",
    "tree1 = trees1[0]\n",
    "\n",
    "test_printTree(tree1) == \"['(S', '(NP', 'I)', '(VP', '(V', 'shot)', '(NP', '(Det', 'an)', '(N', 'elephant))))']\"\n"
   ]
  },
  {
   "cell_type": "code",
   "execution_count": 4,
   "metadata": {},
   "outputs": [
    {
     "data": {
      "text/plain": [
       "True"
      ]
     },
     "execution_count": 4,
     "metadata": {},
     "output_type": "execute_result"
    }
   ],
   "source": [
    "import nltk\n",
    "groucho_grammar = nltk.CFG.fromstring(\"\"\"\n",
    "EX -> EX OP ID| ID OP ID\n",
    "OP -> '+'|'-'\n",
    "ID -> 'a'|'b'|'c'|'d'\n",
    "\"\"\")\n",
    "parser = nltk.ChartParser(groucho_grammar)\n",
    "trees2 = list(parser.parse(['a', '-','b', '+','c', '-','d']))\n",
    "tree2 = trees2[0]\n",
    "test_printTree(tree2) == \"['(EX', '(EX', '(EX', '(ID', 'a)', '(OP', '-)', '(ID', 'b))', '(OP', '+)', '(ID', 'c))', '(OP', '-)', '(ID', 'd))']\""
   ]
  },
  {
   "cell_type": "markdown",
   "metadata": {},
   "source": [
    "The following tests should return an error. "
   ]
  },
  {
   "cell_type": "code",
   "execution_count": 5,
   "metadata": {},
   "outputs": [
    {
     "name": "stdout",
     "output_type": "stream",
     "text": [
      "error: incorrect input, expecting nltk.tree.Tree\n"
     ]
    }
   ],
   "source": [
    "test_printTree('a') # expected output: \"error: incorrect input, expecting nltk.tree.Tree\""
   ]
  },
  {
   "cell_type": "code",
   "execution_count": 6,
   "metadata": {},
   "outputs": [
    {
     "name": "stdout",
     "output_type": "stream",
     "text": [
      "error: incorrect input, expecting nltk.tree.Tree\n"
     ]
    }
   ],
   "source": [
    "test_printTree([]) # expected output: \"error: incorrect input, expecting nltk.tree.Tree"
   ]
  },
  {
   "cell_type": "code",
   "execution_count": 7,
   "metadata": {},
   "outputs": [
    {
     "name": "stdout",
     "output_type": "stream",
     "text": [
      "error: incorrect input, expecting nltk.tree.Tree\n"
     ]
    }
   ],
   "source": [
    "test_printTree('(12345)') # expected output: \"error: incorrect input, expecting nltk.tree.Tree\""
   ]
  },
  {
   "cell_type": "code",
   "execution_count": 8,
   "metadata": {},
   "outputs": [
    {
     "name": "stdout",
     "output_type": "stream",
     "text": [
      "error: incorrect input, expecting nltk.tree.Tree\n"
     ]
    }
   ],
   "source": [
    "test_printTree(12345678910) # expected output: \"error: incorrect input, expecting nltk.tree.Tree\""
   ]
  },
  {
   "cell_type": "markdown",
   "metadata": {},
   "source": [
    "####  Testing animateTree():\n",
    "The following tests should return `True`."
   ]
  },
  {
   "cell_type": "code",
   "execution_count": 9,
   "metadata": {},
   "outputs": [
    {
     "data": {
      "text/plain": [
       "True"
      ]
     },
     "execution_count": 9,
     "metadata": {},
     "output_type": "execute_result"
    }
   ],
   "source": [
    "test_animateTree(tree1) == \"['(S', '(NP', 'I)', '(VP', '(V', 'shot)', '(NP', '(Det', 'an)', '(N', 'elephant))))']\""
   ]
  },
  {
   "cell_type": "code",
   "execution_count": 10,
   "metadata": {},
   "outputs": [
    {
     "data": {
      "text/plain": [
       "True"
      ]
     },
     "execution_count": 10,
     "metadata": {},
     "output_type": "execute_result"
    }
   ],
   "source": [
    "test_printTree(tree2) == \"['(EX', '(EX', '(EX', '(ID', 'a)', '(OP', '-)', '(ID', 'b))', '(OP', '+)', '(ID', 'c))', '(OP', '-)', '(ID', 'd))']\""
   ]
  },
  {
   "cell_type": "markdown",
   "metadata": {},
   "source": [
    "The following tests should return an error. "
   ]
  },
  {
   "cell_type": "code",
   "execution_count": 11,
   "metadata": {},
   "outputs": [
    {
     "name": "stdout",
     "output_type": "stream",
     "text": [
      "error: incorrect input, expecting nltk.tree.Tree\n"
     ]
    }
   ],
   "source": [
    "test_animateTree('a') # expected output: \"error: list expected\""
   ]
  },
  {
   "cell_type": "code",
   "execution_count": 12,
   "metadata": {},
   "outputs": [
    {
     "name": "stdout",
     "output_type": "stream",
     "text": [
      "error: incorrect input, expecting nltk.tree.Tree\n"
     ]
    }
   ],
   "source": [
    "test_animateTree([]) # expected output: \"error: incorrect input, expecting nltk.tree.Tree"
   ]
  },
  {
   "cell_type": "code",
   "execution_count": 13,
   "metadata": {},
   "outputs": [
    {
     "name": "stdout",
     "output_type": "stream",
     "text": [
      "error: incorrect input, expecting nltk.tree.Tree\n"
     ]
    }
   ],
   "source": [
    "test_animateTree('(12345)') # expected output: \"error: incorrect input, expecting nltk.tree.Tree\""
   ]
  },
  {
   "cell_type": "code",
   "execution_count": 14,
   "metadata": {},
   "outputs": [
    {
     "name": "stdout",
     "output_type": "stream",
     "text": [
      "error: incorrect input, expecting nltk.tree.Tree\n"
     ]
    }
   ],
   "source": [
    "test_animateTree(12345678910) # expected output: \"error: incorrect input, expecting nltk.tree.Tree\""
   ]
  },
  {
   "cell_type": "markdown",
   "metadata": {},
   "source": [
    "####  Evaluating Runtime for Animation:"
   ]
  },
  {
   "cell_type": "markdown",
   "metadata": {},
   "source": [
    "Here, we are evaluating the time it takes to execute the animation."
   ]
  },
  {
   "cell_type": "code",
   "execution_count": 15,
   "metadata": {},
   "outputs": [
    {
     "name": "stdout",
     "output_type": "stream",
     "text": [
      "Time(s):  0.6291784189999996\n",
      "Time(s):  0.6489928240000005\n",
      "Time(s):  0.6484211879999995\n",
      "Time(s):  0.6370990470000004\n",
      "Time(s):  0.6093753369999995\n",
      "Average Runtime(s):  0.6346133629999999\n"
     ]
    }
   ],
   "source": [
    "start_time = timeit.default_timer()\n",
    "interactive( ga, 600 )\n",
    "stop_time = timeit.default_timer()\n",
    "A = stop_time - start_time\n",
    "print('Time(s): ', A) \n",
    "\n",
    "start_time = timeit.default_timer()\n",
    "interactive( ga, 600 )\n",
    "stop_time = timeit.default_timer()\n",
    "B = stop_time - start_time\n",
    "print('Time(s): ', B)\n",
    "\n",
    "start_time = timeit.default_timer()\n",
    "interactive( ga, 600 )\n",
    "stop_time = timeit.default_timer()\n",
    "C = stop_time - start_time\n",
    "print('Time(s): ', C)\n",
    "\n",
    "start_time = timeit.default_timer()\n",
    "interactive( ga, 600 )\n",
    "stop_time = timeit.default_timer()\n",
    "D = stop_time - start_time\n",
    "print('Time(s): ', D)\n",
    "\n",
    "start_time = timeit.default_timer()\n",
    "interactive( ga, 600 )\n",
    "stop_time = timeit.default_timer()\n",
    "E = stop_time - start_time\n",
    "print('Time(s): ', E)\n",
    "\n",
    "average = (A + B + C + D + E)/5\n",
    "print('Average Runtime(s): ', average)"
   ]
  },
  {
   "cell_type": "code",
   "execution_count": null,
   "metadata": {},
   "outputs": [],
   "source": []
  }
 ],
 "metadata": {
  "kernelspec": {
   "display_name": "Python 3",
   "language": "python",
   "name": "python3"
  },
  "language_info": {
   "codemirror_mode": {
    "name": "ipython",
    "version": 3
   },
   "file_extension": ".py",
   "mimetype": "text/x-python",
   "name": "python",
   "nbconvert_exporter": "python",
   "pygments_lexer": "ipython3",
   "version": "3.8.1"
  }
 },
 "nbformat": 4,
 "nbformat_minor": 4
}
