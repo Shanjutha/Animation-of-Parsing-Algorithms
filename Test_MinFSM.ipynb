{
 "cells": [
  {
   "cell_type": "markdown",
   "metadata": {},
   "source": [
    "# Testing for Minimized FSM"
   ]
  },
  {
   "cell_type": "code",
   "execution_count": 1,
   "metadata": {},
   "outputs": [
    {
     "name": "stdout",
     "output_type": "stream",
     "text": [
      "1\n",
      "2\n",
      "0 c → 2\n",
      "1 a → 0\n",
      "0 b → 2\n",
      "0 a → 0\n"
     ]
    }
   ],
   "source": [
    "from ipynb.fs.full.MinimizingFSM import *\n",
    "import timeit"
   ]
  },
  {
   "cell_type": "code",
   "execution_count": 2,
   "metadata": {},
   "outputs": [],
   "source": [
    "def test_printMinFSM(s):\n",
    "    try: return str(printMinFSM(s))\n",
    "    except Exception as e:\n",
    "        print(e)\n",
    "        \n",
    "def test_animateMinFSM(s):\n",
    "    try: return str(animateMinFSM(s))\n",
    "    except Exception as e:\n",
    "        print(e)"
   ]
  },
  {
   "cell_type": "markdown",
   "metadata": {},
   "source": [
    "####  Testing printMinFSM():\n",
    "\n",
    "The following tests should return `True`. "
   ]
  },
  {
   "cell_type": "code",
   "execution_count": 3,
   "metadata": {},
   "outputs": [
    {
     "data": {
      "text/plain": [
       "True"
      ]
     },
     "execution_count": 3,
     "metadata": {},
     "output_type": "execute_result"
    }
   ],
   "source": [
    "test_printMinFSM(['0', '4 2'])== (\"[]\")"
   ]
  },
  {
   "cell_type": "code",
   "execution_count": 4,
   "metadata": {},
   "outputs": [
    {
     "data": {
      "text/plain": [
       "True"
      ]
     },
     "execution_count": 4,
     "metadata": {},
     "output_type": "execute_result"
    }
   ],
   "source": [
    "test_printMinFSM(['0', '4 2', '1 b → 2'])== (\"[['1', 'b', '2']]\")"
   ]
  },
  {
   "cell_type": "code",
   "execution_count": 5,
   "metadata": {},
   "outputs": [
    {
     "data": {
      "text/plain": [
       "True"
      ]
     },
     "execution_count": 5,
     "metadata": {},
     "output_type": "execute_result"
    }
   ],
   "source": [
    "test_printMinFSM(['0', \n",
    "                '2 4', \n",
    "                '0 a → 1', \n",
    "                '1 b → 2', \n",
    "                '3 c → 4', \n",
    "                '0 a → 3'])== (\"[['0', 'a', '1'], ['1', 'b', '2'], ['3', 'c', '4'], ['0', 'a', '3']]\")"
   ]
  },
  {
   "cell_type": "markdown",
   "metadata": {},
   "source": [
    "The following tests should return an error. "
   ]
  },
  {
   "cell_type": "code",
   "execution_count": 6,
   "metadata": {},
   "outputs": [
    {
     "name": "stdout",
     "output_type": "stream",
     "text": [
      "error: list expected\n"
     ]
    }
   ],
   "source": [
    "test_printMinFSM('a') # expected output: \"error: list expected\""
   ]
  },
  {
   "cell_type": "code",
   "execution_count": 7,
   "metadata": {},
   "outputs": [
    {
     "name": "stdout",
     "output_type": "stream",
     "text": [
      "error: list expected\n"
     ]
    }
   ],
   "source": [
    "test_printMinFSM(123) # expected output: \"error: list expected\""
   ]
  },
  {
   "cell_type": "code",
   "execution_count": 8,
   "metadata": {},
   "outputs": [
    {
     "name": "stdout",
     "output_type": "stream",
     "text": [
      "error: list of strings expected\n"
     ]
    }
   ],
   "source": [
    "test_printMinFSM([1, 2, 1, 'a', 2]) # expected output: \"error: list of strings expected\""
   ]
  },
  {
   "cell_type": "markdown",
   "metadata": {},
   "source": [
    "####  Testing animateNFSM():\n",
    "The following tests should return `True`."
   ]
  },
  {
   "cell_type": "code",
   "execution_count": 9,
   "metadata": {},
   "outputs": [
    {
     "data": {
      "text/plain": [
       "True"
      ]
     },
     "execution_count": 9,
     "metadata": {},
     "output_type": "execute_result"
    }
   ],
   "source": [
    "test_animateMinFSM(['0', '4 2']) == (\"[]\")"
   ]
  },
  {
   "cell_type": "code",
   "execution_count": 10,
   "metadata": {},
   "outputs": [
    {
     "data": {
      "text/plain": [
       "True"
      ]
     },
     "execution_count": 10,
     "metadata": {},
     "output_type": "execute_result"
    }
   ],
   "source": [
    "test_animateMinFSM(['0', '4 2', '0 a → 1']) == (\"[]\")"
   ]
  },
  {
   "cell_type": "code",
   "execution_count": 11,
   "metadata": {},
   "outputs": [
    {
     "data": {
      "text/plain": [
       "True"
      ]
     },
     "execution_count": 11,
     "metadata": {},
     "output_type": "execute_result"
    }
   ],
   "source": [
    "test_animateMinFSM(['0', \n",
    "                '2 4', \n",
    "                '0 a → 1', \n",
    "                '1 b → 2', \n",
    "                '3 c → 4', \n",
    "                '0 a → 3']) == (\"[['1', 'b', '2'], ['3', 'c', '4']]\")"
   ]
  },
  {
   "cell_type": "markdown",
   "metadata": {},
   "source": [
    "The following tests should return an error. "
   ]
  },
  {
   "cell_type": "code",
   "execution_count": 12,
   "metadata": {},
   "outputs": [
    {
     "name": "stdout",
     "output_type": "stream",
     "text": [
      "error: list expected\n"
     ]
    }
   ],
   "source": [
    "test_animateMinFSM('a') # expected output: \"error: list expected\""
   ]
  },
  {
   "cell_type": "code",
   "execution_count": 13,
   "metadata": {},
   "outputs": [
    {
     "name": "stdout",
     "output_type": "stream",
     "text": [
      "error: list expected\n"
     ]
    }
   ],
   "source": [
    "test_animateMinFSM(123) # expected output: \"error: list expected\""
   ]
  },
  {
   "cell_type": "code",
   "execution_count": 14,
   "metadata": {},
   "outputs": [
    {
     "name": "stdout",
     "output_type": "stream",
     "text": [
      "error: list of strings expected\n"
     ]
    }
   ],
   "source": [
    "test_printMinFSM([1, 2, 1, 'a', 2]) # expected output: \"error: list of strings expected\""
   ]
  },
  {
   "cell_type": "markdown",
   "metadata": {},
   "source": [
    "####  Evaluating Runtime for Animation:"
   ]
  },
  {
   "cell_type": "markdown",
   "metadata": {},
   "source": [
    "Here, we are evaluating the time it takes to execute the animation."
   ]
  },
  {
   "cell_type": "code",
   "execution_count": 16,
   "metadata": {},
   "outputs": [
    {
     "name": "stdout",
     "output_type": "stream",
     "text": [
      "Time(s):  0.6670039620000008\n",
      "Time(s):  0.6474737929999979\n",
      "Time(s):  0.662888039000002\n",
      "Time(s):  0.6290863799999968\n",
      "Time(s):  0.6262190939999996\n",
      "Average Runtime(s):  0.6465342535999994\n"
     ]
    }
   ],
   "source": [
    "start_time = timeit.default_timer()\n",
    "interactive( ga_min, 600 )\n",
    "stop_time = timeit.default_timer()\n",
    "A = stop_time - start_time\n",
    "print('Time(s): ', A) \n",
    "\n",
    "start_time = timeit.default_timer()\n",
    "interactive( ga_min, 600 )\n",
    "stop_time = timeit.default_timer()\n",
    "B = stop_time - start_time\n",
    "print('Time(s): ', B)\n",
    "\n",
    "start_time = timeit.default_timer()\n",
    "interactive( ga_min, 600 )\n",
    "stop_time = timeit.default_timer()\n",
    "C = stop_time - start_time\n",
    "print('Time(s): ', C)\n",
    "\n",
    "start_time = timeit.default_timer()\n",
    "interactive( ga_min, 600 )\n",
    "stop_time = timeit.default_timer()\n",
    "D = stop_time - start_time\n",
    "print('Time(s): ', D)\n",
    "\n",
    "start_time = timeit.default_timer()\n",
    "interactive( ga_min, 600 )\n",
    "stop_time = timeit.default_timer()\n",
    "E = stop_time - start_time\n",
    "print('Time(s): ', E)\n",
    "\n",
    "average = (A + B + C + D + E)/5\n",
    "print('Average Runtime(s): ', average)"
   ]
  },
  {
   "cell_type": "code",
   "execution_count": null,
   "metadata": {},
   "outputs": [],
   "source": []
  },
  {
   "cell_type": "code",
   "execution_count": null,
   "metadata": {},
   "outputs": [],
   "source": []
  }
 ],
 "metadata": {
  "kernelspec": {
   "display_name": "Python 3",
   "language": "python",
   "name": "python3"
  },
  "language_info": {
   "codemirror_mode": {
    "name": "ipython",
    "version": 3
   },
   "file_extension": ".py",
   "mimetype": "text/x-python",
   "name": "python",
   "nbconvert_exporter": "python",
   "pygments_lexer": "ipython3",
   "version": "3.8.1"
  }
 },
 "nbformat": 4,
 "nbformat_minor": 4
}
