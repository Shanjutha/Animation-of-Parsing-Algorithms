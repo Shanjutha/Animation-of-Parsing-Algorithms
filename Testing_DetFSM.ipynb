{
 "cells": [
  {
   "cell_type": "markdown",
   "metadata": {},
   "source": [
    "# Testing for Deterministic FSM"
   ]
  },
  {
   "cell_type": "code",
   "execution_count": 1,
   "metadata": {},
   "outputs": [
    {
     "name": "stdout",
     "output_type": "stream",
     "text": [
      "{0}\n",
      "{2} {4}\n",
      "{1, 3} b → {2}\n",
      "{1, 3} c → {4}\n",
      "{0} a → {1, 3}\n"
     ]
    }
   ],
   "source": [
    "from ipynb.fs.full.DeterministicFSM import *\n",
    "import timeit"
   ]
  },
  {
   "cell_type": "code",
   "execution_count": 2,
   "metadata": {},
   "outputs": [],
   "source": [
    "def test_printDFSM(s):\n",
    "    try: return str(printDFSM(s))\n",
    "    except Exception as e:\n",
    "        print(e)\n",
    "        \n",
    "def test_animateDFSM(s):\n",
    "    try: return str(animateDFSM(s))\n",
    "    except Exception as e:\n",
    "        print(e)"
   ]
  },
  {
   "cell_type": "markdown",
   "metadata": {},
   "source": [
    "####  Testing printDFSM():\n",
    "\n",
    "The following tests should return `True`."
   ]
  },
  {
   "cell_type": "code",
   "execution_count": 3,
   "metadata": {},
   "outputs": [
    {
     "data": {
      "text/plain": [
       "True"
      ]
     },
     "execution_count": 3,
     "metadata": {},
     "output_type": "execute_result"
    }
   ],
   "source": [
    "test_printDFSM(['{0}', '{4} {2}'])== (\"[]\")"
   ]
  },
  {
   "cell_type": "code",
   "execution_count": 4,
   "metadata": {},
   "outputs": [
    {
     "data": {
      "text/plain": [
       "True"
      ]
     },
     "execution_count": 4,
     "metadata": {},
     "output_type": "execute_result"
    }
   ],
   "source": [
    "test_printDFSM(['{0}', '{4} {2}', '{1, 3} c → {4}']) == (\"[['1, 3', 'c', '4']]\")"
   ]
  },
  {
   "cell_type": "code",
   "execution_count": 5,
   "metadata": {},
   "outputs": [
    {
     "data": {
      "text/plain": [
       "True"
      ]
     },
     "execution_count": 5,
     "metadata": {},
     "output_type": "execute_result"
    }
   ],
   "source": [
    "A = ['{0}', '{4} {2}', '{1, 3} c → {4}', '{0} a → {1, 3}', '{1, 3} b → {2}']\n",
    "test_printDFSM(A) == (\"[['1, 3', 'c', '4'], ['0', 'a', '1, 3'], ['1, 3', 'b', '2']]\")"
   ]
  },
  {
   "cell_type": "markdown",
   "metadata": {},
   "source": [
    "The following tests should return an error. "
   ]
  },
  {
   "cell_type": "code",
   "execution_count": 6,
   "metadata": {},
   "outputs": [
    {
     "name": "stdout",
     "output_type": "stream",
     "text": [
      "error: list expected\n"
     ]
    }
   ],
   "source": [
    "test_printDFSM('a') # expected output: \"error: list expected\""
   ]
  },
  {
   "cell_type": "code",
   "execution_count": 7,
   "metadata": {},
   "outputs": [
    {
     "name": "stdout",
     "output_type": "stream",
     "text": [
      "error: list expected\n"
     ]
    }
   ],
   "source": [
    "test_printDFSM(123) # expected output: \"error: list expected\""
   ]
  },
  {
   "cell_type": "code",
   "execution_count": 8,
   "metadata": {},
   "outputs": [
    {
     "name": "stdout",
     "output_type": "stream",
     "text": [
      "error: list of strings expected\n"
     ]
    }
   ],
   "source": [
    "test_printDFSM([1, 2, 1, 'a', 2]) # expected output: \"error: list of strings expected\""
   ]
  },
  {
   "cell_type": "markdown",
   "metadata": {},
   "source": [
    "####  Testing animateDFSM():\n",
    "\n",
    "The following tests should return `True`."
   ]
  },
  {
   "cell_type": "code",
   "execution_count": 9,
   "metadata": {},
   "outputs": [
    {
     "data": {
      "text/plain": [
       "True"
      ]
     },
     "execution_count": 9,
     "metadata": {},
     "output_type": "execute_result"
    }
   ],
   "source": [
    "test_animateDFSM(['{0}', '{4} {2}'])== (\"[]\")"
   ]
  },
  {
   "cell_type": "code",
   "execution_count": 10,
   "metadata": {},
   "outputs": [
    {
     "data": {
      "text/plain": [
       "True"
      ]
     },
     "execution_count": 10,
     "metadata": {},
     "output_type": "execute_result"
    }
   ],
   "source": [
    "test_animateDFSM(['{0}', '{4} {2}', '{1, 3} c → {4}']) == (\"[['1, 3', 'c', '4']]\")"
   ]
  },
  {
   "cell_type": "code",
   "execution_count": 11,
   "metadata": {},
   "outputs": [
    {
     "data": {
      "text/plain": [
       "True"
      ]
     },
     "execution_count": 11,
     "metadata": {},
     "output_type": "execute_result"
    }
   ],
   "source": [
    "A = ['{0}', '{4} {2}', '{1, 3} c → {4}', '{0} a → {1, 3}', '{1, 3} b → {2}']\n",
    "test_animateDFSM(A) == (\"[['0', 'a', '1, 3'], ['1, 3', 'b', '2'], ['1, 3', 'c', '4']]\")"
   ]
  },
  {
   "cell_type": "markdown",
   "metadata": {},
   "source": [
    "The following tests should return an error. "
   ]
  },
  {
   "cell_type": "code",
   "execution_count": 12,
   "metadata": {},
   "outputs": [
    {
     "name": "stdout",
     "output_type": "stream",
     "text": [
      "error: list expected\n"
     ]
    }
   ],
   "source": [
    "test_animateDFSM('a') # expected output: \"error: list expected\""
   ]
  },
  {
   "cell_type": "code",
   "execution_count": 13,
   "metadata": {},
   "outputs": [
    {
     "name": "stdout",
     "output_type": "stream",
     "text": [
      "error: list expected\n"
     ]
    }
   ],
   "source": [
    "test_printDFSM(123) # expected output: \"error: list expected\""
   ]
  },
  {
   "cell_type": "code",
   "execution_count": 14,
   "metadata": {},
   "outputs": [
    {
     "name": "stdout",
     "output_type": "stream",
     "text": [
      "error: list of strings expected\n"
     ]
    }
   ],
   "source": [
    "test_printDFSM([1, 2, 1, 'a', 2]) # expected output: \"error: list of strings expected\""
   ]
  },
  {
   "cell_type": "markdown",
   "metadata": {},
   "source": [
    "####  Evaluating Runtime for Animation:"
   ]
  },
  {
   "cell_type": "markdown",
   "metadata": {},
   "source": [
    "Here, we are evaluating the time it takes to execute the animation."
   ]
  },
  {
   "cell_type": "code",
   "execution_count": 15,
   "metadata": {},
   "outputs": [
    {
     "name": "stdout",
     "output_type": "stream",
     "text": [
      "Time(s):  0.6065218410000002\n",
      "Time(s):  0.6655185210000001\n",
      "Time(s):  0.6866108610000001\n",
      "Time(s):  0.6136064269999997\n",
      "Time(s):  0.5848234000000003\n",
      "Average Runtime(s):  0.63141621\n"
     ]
    }
   ],
   "source": [
    "start_time = timeit.default_timer()\n",
    "interactive( ga, 600 )\n",
    "stop_time = timeit.default_timer()\n",
    "A = stop_time - start_time\n",
    "print('Time(s): ', A) \n",
    "\n",
    "start_time = timeit.default_timer()\n",
    "interactive( ga, 600 )\n",
    "stop_time = timeit.default_timer()\n",
    "B = stop_time - start_time\n",
    "print('Time(s): ', B)\n",
    "\n",
    "start_time = timeit.default_timer()\n",
    "interactive( ga, 600 )\n",
    "stop_time = timeit.default_timer()\n",
    "C = stop_time - start_time\n",
    "print('Time(s): ', C)\n",
    "\n",
    "start_time = timeit.default_timer()\n",
    "interactive( ga, 600 )\n",
    "stop_time = timeit.default_timer()\n",
    "D = stop_time - start_time\n",
    "print('Time(s): ', D)\n",
    "\n",
    "start_time = timeit.default_timer()\n",
    "interactive( ga, 600 )\n",
    "stop_time = timeit.default_timer()\n",
    "E = stop_time - start_time\n",
    "print('Time(s): ', E)\n",
    "\n",
    "average = (A + B + C + D + E)/5\n",
    "print('Average Runtime(s): ', average)"
   ]
  }
 ],
 "metadata": {
  "kernelspec": {
   "display_name": "Python 3",
   "language": "python",
   "name": "python3"
  },
  "language_info": {
   "codemirror_mode": {
    "name": "ipython",
    "version": 3
   },
   "file_extension": ".py",
   "mimetype": "text/x-python",
   "name": "python",
   "nbconvert_exporter": "python",
   "pygments_lexer": "ipython3",
   "version": "3.8.1"
  }
 },
 "nbformat": 4,
 "nbformat_minor": 4
}
