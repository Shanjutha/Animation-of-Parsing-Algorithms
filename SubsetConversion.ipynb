{
 "cells": [
  {
   "cell_type": "markdown",
   "metadata": {},
   "source": [
    "# Animating Subset Construction (NFA to DFA)"
   ]
  },
  {
   "cell_type": "markdown",
   "metadata": {},
   "source": [
    "This notebook generates and displays the animation of the subset conversion from an NFA to DFA. After executing each cell, you will be able to view the animation at the end of the notebook."
   ]
  },
  {
   "cell_type": "markdown",
   "metadata": {},
   "source": [
    "Import `gvanim`, which was installed using `pip install GraphvizAnim`. This module is used to generate the interactive animations. "
   ]
  },
  {
   "cell_type": "code",
   "execution_count": 8,
   "metadata": {},
   "outputs": [],
   "source": [
    "from gvanim import Animation\n",
    "from gvanim.jupyter import interactive\n",
    "ga_new = Animation() # variable used to represent the animation\n"
   ]
  },
  {
   "cell_type": "markdown",
   "metadata": {},
   "source": [
    "In the section below, we introduce all the classes and methods needed to produce a Nondeterministic Finite State Machine. These methods were referenced from the lecture notes (02 Regular Languages)."
   ]
  },
  {
   "cell_type": "code",
   "execution_count": 9,
   "metadata": {},
   "outputs": [],
   "source": [
    "class FiniteStateMachine:\n",
    "    def __init__(self, T, Q, R, q0, F):\n",
    "        self.T, self.Q, self.R, self.q0, self.F = T, Q, R, q0, F\n",
    "    def __repr__(self):\n",
    "        return str(self.q0) + '\\n' + ' '.join(self.F) + '\\n' + \\\n",
    "               '\\n'.join(r[0] + ' ' + r[1] + ' → ' + r[2] for r in self.R)\n",
    "\n",
    "def parseFSM(fsm: str) -> FiniteStateMachine:\n",
    "    fsm = [line for line in fsm.split('\\n') if line.strip() != '']\n",
    "    q0 = fsm[0].split()[0] # first line: initialstate\n",
    "    F = set(fsm[1].split()) # second line: finalstate, finalstate, ...\n",
    "    R = set()\n",
    "    for line in fsm[2:]: # all subsequent lines: \"source symbol → target\"\n",
    "        l, r = line.split('→')\n",
    "        R |= {(l.split()[0], l.split()[1], r.split()[0])}\n",
    "    T = {r[1] for r in R}\n",
    "    Q = {q0} | F | {r[0] for r in R} | {r[2] for r in R}\n",
    "    return FiniteStateMachine(T, Q, R, q0, F)\n",
    "\n",
    "class Choice:\n",
    "    def __init__(self, e1, e2): self.e1, self.e2 = e1, e2\n",
    "class Conc:\n",
    "    def __init__(self, e1, e2): self.e1, self.e2 = e1, e2\n",
    "class Star:\n",
    "    def __init__(self, e): self.e = e\n",
    "        \n",
    "def syntaxgraph(re):\n",
    "    global node, T\n",
    "    if re == '': return {(None, None)}\n",
    "    elif type(re) == str:\n",
    "        node += 1; T.add(re); return {(None, (re, str(node))), ((re, str(node)), None)}\n",
    "    elif type(re) == Choice:\n",
    "        return syntaxgraph(re.e1) | syntaxgraph(re.e2)\n",
    "    elif type(re) == Conc:\n",
    "        g1, g2 = syntaxgraph(re.e1), syntaxgraph(re.e2)\n",
    "        return {(a, b) for (a, b) in g1 if b} | \\\n",
    "               {(a, b) for (a, b) in g2 if a} | \\\n",
    "               {(a, b) for (a, c) in g1 for (d, b) in g2 if not c and not d}\n",
    "    elif type(re) == Star:\n",
    "        g = syntaxgraph(re.e)\n",
    "        return {(None, None)} | g | \\\n",
    "               {(a, b) for (a, c) in g for (d, b) in g if not c and not d}\n",
    "    else: raise Exception('not a regular expression')\n",
    "        \n",
    "def convertRegExToFSM(re):\n",
    "    global node, T; node, T = 0, set()\n",
    "    g = syntaxgraph(re)\n",
    "    Q = {str(n) for n in range(node + 1)}\n",
    "    R = {('0', b[0], b[1]) for (a, b) in g if not a and b} | \\\n",
    "        {(a[1], b[0], b[1]) for (a, b) in g if a and b}\n",
    "    F = {a[1] for (a, b) in g if a and not b} | ({'0'} if (None, None) in g else set())\n",
    "    output = FiniteStateMachine(T, Q, R, '0', F)\n",
    "    output = str(output)\n",
    "    return output"
   ]
  },
  {
   "cell_type": "markdown",
   "metadata": {},
   "source": [
    "###### Defining the Nondeterministic FSM\n",
    "\n",
    "First, we need to define the NFA using the methods defined above. We do this by defining a regular expression, and convert that regex into an FSM using `convertRegExToFSM()`. "
   ]
  },
  {
   "cell_type": "code",
   "execution_count": 10,
   "metadata": {},
   "outputs": [
    {
     "name": "stdout",
     "output_type": "stream",
     "text": [
      "0\n",
      "3 6\n",
      "4 a → 5\n",
      "1 b → 3\n",
      "4 c → 6\n",
      "2 a → 2\n",
      "2 b → 3\n",
      "5 a → 5\n",
      "1 a → 2\n",
      "5 c → 6\n",
      "0 a → 4\n",
      "0 a → 1\n"
     ]
    }
   ],
   "source": [
    "E4 = Choice(Conc(Conc('a', Star('a')), 'b'), Conc(Conc('a', Star('a')), 'c'))\n",
    "A4 = convertRegExToFSM(E4); A4 = A4.splitlines()\n",
    "for i in A4:\n",
    "    print(i)"
   ]
  },
  {
   "cell_type": "markdown",
   "metadata": {},
   "source": [
    "In the section below, we introduce the additional classes and methods needed to produce a Deterministic Finite State Machine. These methods were referenced from the lecture notes (02 Regular Languages)."
   ]
  },
  {
   "cell_type": "code",
   "execution_count": 11,
   "metadata": {},
   "outputs": [],
   "source": [
    "def convertRegExToFSM(re):\n",
    "    global node, T; node, T = 0, set()\n",
    "    g = syntaxgraph(re)\n",
    "    Q = {str(n) for n in range(node + 1)}\n",
    "    R = {('0', b[0], b[1]) for (a, b) in g if not a and b} | \\\n",
    "        {(a[1], b[0], b[1]) for (a, b) in g if a and b}\n",
    "    F = {a[1] for (a, b) in g if a and not b} | ({'0'} if (None, None) in g else set())\n",
    "    return FiniteStateMachine(T, Q, R, '0', F)\n",
    "\n",
    "def string(s: set) -> str:\n",
    "    return '{' + ', '.join(e for e in s) + '}'\n",
    "\n",
    "def deterministicFSM(fsm: FiniteStateMachine) -> FiniteStateMachine:\n",
    "    qq0 = string({fsm.q0})\n",
    "    QQ, RR, visited = {qq0}, set(), set()\n",
    "    #print(QQ, RR, visited)\n",
    "    while visited != QQ:\n",
    "        qq = (QQ - visited).pop(); visited |= {qq}\n",
    "        for t in fsm.T:\n",
    "            rr = {r for (q, u, r) in fsm.R if u == t and q in qq}\n",
    "            if rr != set(): QQ |= {string(rr)}; RR |= {(qq, t, string(rr))}\n",
    "        #print(QQ, RR, visited)\n",
    "    FF = {qq for qq in QQ for f in fsm.F if f in qq}\n",
    "    output = FiniteStateMachine(fsm.T, QQ, RR, qq0, FF)\n",
    "    output = str(output)\n",
    "    return output"
   ]
  },
  {
   "cell_type": "markdown",
   "metadata": {},
   "source": [
    "###### Defining the Deterministic FSM\n",
    "\n",
    "Next, we need to define the equivalent DFA for the above NFA. This is done by inputting the NFA into the method `deterministicFSM()`. We then split the DFA into a list of strings. "
   ]
  },
  {
   "cell_type": "code",
   "execution_count": 12,
   "metadata": {},
   "outputs": [
    {
     "name": "stdout",
     "output_type": "stream",
     "text": [
      "Nondeterministic FSM:\n",
      "0\n",
      "3 6\n",
      "4 a → 5\n",
      "1 b → 3\n",
      "4 c → 6\n",
      "2 a → 2\n",
      "2 b → 3\n",
      "5 a → 5\n",
      "1 a → 2\n",
      "5 c → 6\n",
      "0 a → 4\n",
      "0 a → 1\n",
      "Deterministic FSM:\n",
      "{0}\n",
      "{6} {3}\n",
      "{5, 2} a → {5, 2}\n",
      "{1, 4} c → {6}\n",
      "{5, 2} b → {3}\n",
      "{1, 4} b → {3}\n",
      "{5, 2} c → {6}\n",
      "{1, 4} a → {5, 2}\n",
      "{0} a → {1, 4}\n"
     ]
    }
   ],
   "source": [
    "print(\"Nondeterministic FSM:\")\n",
    "for i in A4:\n",
    "    print(i)\n",
    "A4NFA = convertRegExToFSM(E4)\n",
    "A4det = deterministicFSM(A4NFA); A4det = A4det.splitlines()\n",
    "print(\"Deterministic FSM:\")\n",
    "for i in range(len(A4det)): \n",
    "    A4det[i] = A4det[i]\n",
    "    print(A4det[i])"
   ]
  },
  {
   "cell_type": "markdown",
   "metadata": {},
   "source": [
    "### Animating the Conversion from NFA to DFA:"
   ]
  },
  {
   "cell_type": "markdown",
   "metadata": {},
   "source": [
    "In this stage, we define a method for animating the subset conversion from NFA to DFA.<br> \n",
    "The method `convertNFA(NFA, DFA)` takes two input values, an NFA and a DFA. Each input value is a list of lists. The method iterates through both lists, converting each element in the NFA list to the appropriate element in the DFA list. While converting each element, the method makes the corresponding changes to the animation. "
   ]
  },
  {
   "cell_type": "code",
   "execution_count": 13,
   "metadata": {},
   "outputs": [
    {
     "data": {
      "text/plain": [
       "[['0', 'a', '1, 4'],\n",
       " ['1, 4', 'a', '5, 2'],\n",
       " ['1, 4', 'b', '3'],\n",
       " ['1, 4', 'c', '6'],\n",
       " ['5, 2', 'a', '5, 2'],\n",
       " ['5, 2', 'b', '3'],\n",
       " ['5, 2', 'c', '6']]"
      ]
     },
     "execution_count": 13,
     "metadata": {},
     "output_type": "execute_result"
    }
   ],
   "source": [
    "def convertNFA(NFA,DFA):\n",
    "    eventNFA = [] # order of events for NFA\n",
    "    eventDFA = [] # order of events for DFA\n",
    "    replaced = []\n",
    "    new_stateNFA = [] # list of new states in NFA list \n",
    "    new_stateDFA = [] # list of new states in DFA list \n",
    "    # assign each state and transition in NFA \n",
    "    \n",
    "    for i in range(2,len(NFA)):\n",
    "        oldNFA = NFA[i][0:1] # old state \n",
    "        transitionNFA = NFA[i][2:3] # transition \n",
    "        newNFA = NFA[i][NFA[i].find(\"→\")+2:] # new state\n",
    "        # prints model of NFA\n",
    "        ga_new.add_edge(oldNFA,newNFA) \n",
    "        ga_new.label_edge(oldNFA,newNFA,transitionNFA)\n",
    "        eventNFA.append([oldNFA,transitionNFA,newNFA]) # states and transitions in NFA\n",
    "        new_stateNFA.append(newNFA)\n",
    "    ga_new.next_step()\n",
    "    \n",
    "    for i in range(2,len(DFA)):\n",
    "        oldDFA = DFA[i][DFA[i].find(\"{\")+1:DFA[i].find(\"}\")]\n",
    "        end_bracket = (DFA[i].find(\"}\")) # index of first end bracket \n",
    "        transitionDFA = DFA[i][end_bracket+2]\n",
    "        newDFA = DFA[i][end_bracket+6:len(DFA[i])].replace('{','').replace('}','')\n",
    "        eventDFA.append([oldDFA,transitionDFA, newDFA]) # states and transitions in DFA\n",
    "        new_stateDFA.append(newDFA)\n",
    "        \n",
    "    eventDFA = sorted(eventDFA)\n",
    "    eventNFA = sorted(eventNFA)\n",
    "    \n",
    "    # iterate through both lists, converting NFA -> DFA\n",
    "    while (eventNFA != eventDFA): # end when both lists are equal \n",
    "        for i in eventNFA:\n",
    "            for j in eventDFA:\n",
    "                if i[0:2] == j[0:2]: # if oldNFA in DFA \n",
    "                    index = (eventNFA.index(i)) # index of value to be replaced with combined state \n",
    "                    replaced = i \n",
    "                    ga_new.remove_edge(i[0],i[2]) # remove old edge \n",
    "                    eventNFA[index] = j # replace newNFA with newDFA\n",
    "                    ga_new.add_edge(i[0],j[2]) # add new edge \n",
    "                    ga_new.label_edge(i[0],j[2],i[1])\n",
    "                    ga_new.next_step()\n",
    "                if replaced != []: # change starting state in rest of NFA list \n",
    "                    for x in eventNFA:\n",
    "                        if x[0] == replaced[2]:\n",
    "                            x[0] = j[2]\n",
    "                replaced = []\n",
    "        eventNFA = set(map(tuple, eventNFA)) # remove duplicates \n",
    "        eventNFA = sorted(list(map(list, eventNFA)))\n",
    "        eventDFA = sorted(eventDFA)\n",
    "\n",
    "    # remove unnecessary nodes \n",
    "    new_stateNFA = list(set(new_stateNFA))\n",
    "    for i in new_stateNFA:\n",
    "        if i not in new_stateDFA:\n",
    "            ga_new.remove_node(i)\n",
    "            ga_new.next_step()\n",
    "    return eventNFA\n",
    "\n",
    "convertNFA(A4,A4det)"
   ]
  },
  {
   "cell_type": "markdown",
   "metadata": {},
   "source": [
    "### Running the Animation of the Conversion from NFA to DFA:"
   ]
  },
  {
   "cell_type": "markdown",
   "metadata": {},
   "source": [
    "Here, we call the method `interactive()`, which was imported with the module `gvanim`. This method generates the interactive animation using the previously defined methods, `convertNFA()`.\n",
    "\n",
    "Move the slider from left to right to view the animation of the subset conversion. "
   ]
  },
  {
   "cell_type": "code",
   "execution_count": 14,
   "metadata": {},
   "outputs": [
    {
     "data": {
      "application/vnd.jupyter.widget-view+json": {
       "model_id": "fa2fe7c1be5d49fca54374b107b57613",
       "version_major": 2,
       "version_minor": 0
      },
      "text/plain": [
       "interactive(children=(IntSlider(value=0, description='n', max=15), Output()), _dom_classes=('widget-interact',…"
      ]
     },
     "metadata": {},
     "output_type": "display_data"
    }
   ],
   "source": [
    "interactive(ga_new,600)"
   ]
  },
  {
   "cell_type": "code",
   "execution_count": null,
   "metadata": {},
   "outputs": [],
   "source": []
  },
  {
   "cell_type": "code",
   "execution_count": null,
   "metadata": {},
   "outputs": [],
   "source": []
  }
 ],
 "metadata": {
  "kernelspec": {
   "display_name": "Python 3",
   "language": "python",
   "name": "python3"
  },
  "language_info": {
   "codemirror_mode": {
    "name": "ipython",
    "version": 3
   },
   "file_extension": ".py",
   "mimetype": "text/x-python",
   "name": "python",
   "nbconvert_exporter": "python",
   "pygments_lexer": "ipython3",
   "version": "3.8.1"
  }
 },
 "nbformat": 4,
 "nbformat_minor": 4
}
