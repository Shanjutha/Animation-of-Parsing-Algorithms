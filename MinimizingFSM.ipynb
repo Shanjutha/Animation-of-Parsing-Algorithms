{
 "cells": [
  {
   "cell_type": "markdown",
   "metadata": {},
   "source": [
    "# Animating the Execution of Minimized Finite State Machines"
   ]
  },
  {
   "cell_type": "markdown",
   "metadata": {},
   "source": [
    "Import `gvanim`, which was installed using `pip install GraphvizAnim`. This module is used to generate the interactive animations. "
   ]
  },
  {
   "cell_type": "code",
   "execution_count": 1,
   "metadata": {},
   "outputs": [],
   "source": [
    "from gvanim import Animation\n",
    "from gvanim.jupyter import interactive\n",
    "ga_min = Animation() # variable used to represent the animation "
   ]
  },
  {
   "cell_type": "markdown",
   "metadata": {},
   "source": [
    "In the section below, we introduce all the classes and methods needed to produce a Minimized Finite State Machine. These methods were referenced from the lecture notes (02 Regular Languages)."
   ]
  },
  {
   "cell_type": "code",
   "execution_count": 2,
   "metadata": {},
   "outputs": [],
   "source": [
    "class FiniteStateMachine:\n",
    "    def __init__(self, T, Q, R, q0, F):\n",
    "        self.T, self.Q, self.R, self.q0, self.F = T, Q, R, q0, F\n",
    "    def __repr__(self):\n",
    "        return str(self.q0) + '\\n' + ' '.join(self.F) + '\\n' + \\\n",
    "               '\\n'.join(r[0] + ' ' + r[1] + ' → ' + r[2] for r in self.R)\n",
    "\n",
    "def parseFSM(fsm: str) -> FiniteStateMachine:\n",
    "    fsm = [line for line in fsm.split('\\n') if line.strip() != '']\n",
    "    q0 = fsm[0].split()[0] # first line: initialstate\n",
    "    F = set(fsm[1].split()) # second line: finalstate, finalstate, ...\n",
    "    R = set()\n",
    "    for line in fsm[2:]: # all subsequent lines: \"source symbol → target\"\n",
    "        l, r = line.split('→')\n",
    "        R |= {(l.split()[0], l.split()[1], r.split()[0])}\n",
    "    T = {r[1] for r in R}\n",
    "    Q = {q0} | F | {r[0] for r in R} | {r[2] for r in R}\n",
    "    return FiniteStateMachine(T, Q, R, q0, F)\n",
    "\n",
    "class Choice:\n",
    "    def __init__(self, e1, e2): self.e1, self.e2 = e1, e2\n",
    "class Conc:\n",
    "    def __init__(self, e1, e2): self.e1, self.e2 = e1, e2\n",
    "class Star:\n",
    "    def __init__(self, e): self.e = e\n",
    "        \n",
    "def syntaxgraph(re):\n",
    "    global node, T\n",
    "    if re == '': return {(None, None)}\n",
    "    elif type(re) == str:\n",
    "        node += 1; T.add(re); return {(None, (re, str(node))), ((re, str(node)), None)}\n",
    "    elif type(re) == Choice:\n",
    "        return syntaxgraph(re.e1) | syntaxgraph(re.e2)\n",
    "    elif type(re) == Conc:\n",
    "        g1, g2 = syntaxgraph(re.e1), syntaxgraph(re.e2)\n",
    "        return {(a, b) for (a, b) in g1 if b} | \\\n",
    "               {(a, b) for (a, b) in g2 if a} | \\\n",
    "               {(a, b) for (a, c) in g1 for (d, b) in g2 if not c and not d}\n",
    "    elif type(re) == Star:\n",
    "        g = syntaxgraph(re.e)\n",
    "        return {(None, None)} | g | \\\n",
    "               {(a, b) for (a, c) in g for (d, b) in g if not c and not d}\n",
    "    else: raise Exception('not a regular expression')\n",
    "        \n",
    "def convertRegExToFSM(re):\n",
    "    global node, T; node, T = 0, set()\n",
    "    g = syntaxgraph(re)\n",
    "    Q = {str(n) for n in range(node + 1)}\n",
    "    R = {('0', b[0], b[1]) for (a, b) in g if not a and b} | \\\n",
    "        {(a[1], b[0], b[1]) for (a, b) in g if a and b}\n",
    "    F = {a[1] for (a, b) in g if a and not b} | ({'0'} if (None, None) in g else set())\n",
    "    return FiniteStateMachine(T, Q, R, '0', F)\n",
    "\n",
    "def string(s: set) -> str:\n",
    "    return '{' + ', '.join(e for e in s) + '}'\n",
    "\n",
    "def deterministicFSM(fsm: FiniteStateMachine) -> FiniteStateMachine:\n",
    "    qq0 = string({fsm.q0})\n",
    "    QQ, RR, visited = {qq0}, set(), set()\n",
    "    #print(QQ, RR, visited)\n",
    "    while visited != QQ:\n",
    "        qq = (QQ - visited).pop(); visited |= {qq}\n",
    "        for t in fsm.T:\n",
    "            rr = {r for (q, u, r) in fsm.R if u == t and q in qq}\n",
    "            if rr != set(): QQ |= {string(rr)}; RR |= {(qq, t, string(rr))}\n",
    "        #print(QQ, RR, visited)\n",
    "    FF = {qq for qq in QQ for f in fsm.F if f in qq}\n",
    "    return FiniteStateMachine(fsm.T, QQ, RR, qq0, FF)\n",
    "\n",
    "def renameFSM(fsm: FiniteStateMachine) -> FiniteStateMachine:\n",
    "    m, c = {}, 0\n",
    "    for q in fsm.Q:\n",
    "        m[q] = str(c); c = c + 1\n",
    "    QQ = {str(i) for i in range(c)}\n",
    "    RR = {(m[q], u, m[r]) for (q, u, r) in fsm.R}\n",
    "    FF = {m[q] for q in fsm.F}\n",
    "    qq0 = m[fsm.q0]\n",
    "    output = FiniteStateMachine(fsm.T, QQ, RR, qq0, FF)\n",
    "    output = str(output)\n",
    "    return output\n",
    "\n",
    "def minimizeFSM(fsm: FiniteStateMachine) -> FiniteStateMachine:\n",
    "    nxt = {(q, a): r for (q, a, r) in fsm.R}\n",
    "    dist = {(q, r) for q in fsm.Q for r in fsm.Q if q != r and (q in fsm.F) != (r in fsm.F)}\n",
    "    done = False #; print('initially ', dist)\n",
    "    while not done:\n",
    "        done = True\n",
    "        for q in fsm.Q:\n",
    "            for r in fsm.Q:\n",
    "                if q != r and (q, r) not in dist and any(((q, u) in nxt) != ((r, u) in nxt) or \\\n",
    "                    ((q, u) in nxt) and ((nxt[(q, u)], nxt[(r, u)]) in dist) for u in fsm.T):\n",
    "                    dist |= {(q, r)}; done = False #; print('adding ', q, r)\n",
    "        #print('updated ', dist)\n",
    "    # construct minimal FSM with frozensets as states\n",
    "    QQ = {frozenset({q} | {r for r in fsm.Q if (q, r) not in dist}) for q in fsm.Q}\n",
    "    RR = {(qq, u, rr) for qq in QQ for rr in QQ for u in fsm.T if any((q, u, r) in fsm.R for q in qq for r in rr)}\n",
    "    qq0 = {qq for qq in QQ if any(q in fsm.q0 for q in qq)}.pop()\n",
    "    FF = {qq for qq in QQ if (qq & fsm.F) != set()}\n",
    "    # convert frozensets into strings\n",
    "    QQ = {string(qq) for qq in QQ}\n",
    "    RR = {(string(qq), u, string(rr)) for (qq, u, rr) in RR}\n",
    "    qq0 = string(qq0)\n",
    "    FF = {string(qq) for qq in FF}\n",
    "    return FiniteStateMachine(fsm.T, QQ, RR, qq0, FF)\n"
   ]
  },
  {
   "cell_type": "markdown",
   "metadata": {},
   "source": [
    "###### Defining the Nondeterministic FSM "
   ]
  },
  {
   "cell_type": "markdown",
   "metadata": {},
   "source": [
    "First, we need to define the NFA using the methods defined above. We do this by defining a regular expression, and convert that regex into an FSM using `convertRegExToFSM()`. "
   ]
  },
  {
   "cell_type": "code",
   "execution_count": 3,
   "metadata": {},
   "outputs": [
    {
     "data": {
      "text/plain": [
       "0\n",
       "3 6\n",
       "0 a → 4\n",
       "5 a → 5\n",
       "2 b → 3\n",
       "4 c → 6\n",
       "0 a → 1\n",
       "2 a → 2\n",
       "1 b → 3\n",
       "4 a → 5\n",
       "5 c → 6\n",
       "1 a → 2"
      ]
     },
     "execution_count": 3,
     "metadata": {},
     "output_type": "execute_result"
    }
   ],
   "source": [
    "E4 = Choice(Conc(Conc('a', Star('a')), 'b'), Conc(Conc('a', Star('a')), 'c'))\n",
    "A4 = convertRegExToFSM(E4); A4"
   ]
  },
  {
   "cell_type": "markdown",
   "metadata": {},
   "source": [
    "###### Defining the Deterministic FSM "
   ]
  },
  {
   "cell_type": "markdown",
   "metadata": {},
   "source": [
    "Next, we need to define the equivalent DFA for the above NFA. This is done by inputting the NFA into the method `deterministicFSM()`."
   ]
  },
  {
   "cell_type": "code",
   "execution_count": 4,
   "metadata": {
    "scrolled": true
   },
   "outputs": [
    {
     "data": {
      "text/plain": [
       "{0}\n",
       "{3} {6}\n",
       "{1, 4} a → {5, 2}\n",
       "{5, 2} c → {6}\n",
       "{0} a → {1, 4}\n",
       "{1, 4} b → {3}\n",
       "{1, 4} c → {6}\n",
       "{5, 2} a → {5, 2}\n",
       "{5, 2} b → {3}"
      ]
     },
     "execution_count": 4,
     "metadata": {},
     "output_type": "execute_result"
    }
   ],
   "source": [
    "A4det = deterministicFSM(A4); A4det"
   ]
  },
  {
   "cell_type": "markdown",
   "metadata": {},
   "source": [
    "###### Defining the Minimized FSM "
   ]
  },
  {
   "cell_type": "markdown",
   "metadata": {},
   "source": [
    "Finally, we minimize the DFA using the method `minimizeFSM()`. "
   ]
  },
  {
   "cell_type": "code",
   "execution_count": 5,
   "metadata": {},
   "outputs": [
    {
     "data": {
      "text/plain": [
       "{{0}}\n",
       "{{3}, {6}}\n",
       "{{5, 2}, {1, 4}} a → {{5, 2}, {1, 4}}\n",
       "{{5, 2}, {1, 4}} c → {{3}, {6}}\n",
       "{{5, 2}, {1, 4}} b → {{3}, {6}}\n",
       "{{0}} a → {{5, 2}, {1, 4}}"
      ]
     },
     "execution_count": 5,
     "metadata": {},
     "output_type": "execute_result"
    }
   ],
   "source": [
    "A4min = minimizeFSM(A4det); A4min"
   ]
  },
  {
   "cell_type": "markdown",
   "metadata": {},
   "source": [
    "We can further simplify the FSM by renaming the states, using the method `renameFSM()`. </br>\n",
    "We then split the resulting FSM into a list of strings. "
   ]
  },
  {
   "cell_type": "code",
   "execution_count": 6,
   "metadata": {},
   "outputs": [
    {
     "name": "stdout",
     "output_type": "stream",
     "text": [
      "1\n",
      "2\n",
      "0 b → 2\n",
      "1 a → 0\n",
      "0 a → 0\n",
      "0 c → 2\n"
     ]
    }
   ],
   "source": [
    "A4simp = renameFSM(A4min); A4simp = A4simp.splitlines()\n",
    "for i in A4simp:\n",
    "    print(i)"
   ]
  },
  {
   "cell_type": "markdown",
   "metadata": {},
   "source": [
    "### Printing the Model:"
   ]
  },
  {
   "cell_type": "markdown",
   "metadata": {},
   "source": [
    "In this section, we define a method for printing a model of the minimized FSM.<br> \n",
    "The method `printMinFSM(A)` takes a list of strings as input and produces a model of the minimized FSM, constructed from a series of edges and nodes.  "
   ]
  },
  {
   "cell_type": "code",
   "execution_count": 7,
   "metadata": {},
   "outputs": [
    {
     "data": {
      "text/plain": [
       "[['0', 'b', '2'], ['1', 'a', '0'], ['0', 'a', '0'], ['0', 'c', '2']]"
      ]
     },
     "execution_count": 7,
     "metadata": {},
     "output_type": "execute_result"
    }
   ],
   "source": [
    "def printMinFSM(A):\n",
    "    event = [] # order of events\n",
    "    if type(A) == list: # only proceeds if input is correct type  \n",
    "        for i in range(2,len(A)): \n",
    "            if type(A[i]) == str: # only proceeds if input is list of strings \n",
    "                old = A[i][0:1] \n",
    "                transition = A[i][2:3] \n",
    "                new = A[i][A[i].find(\"→\")+2:]  \n",
    "                ga_min.add_edge(old,new) # extend edge from old to new \n",
    "                ga_min.label_edge(old,new,transition) # add label for transition \n",
    "                event.append([old,transition,new])\n",
    "            else: # returns error message if incorrect type  \n",
    "                raise Exception('error: list of strings expected')\n",
    "        return (event) \n",
    "    else: # returns error message if input type is incorrect\n",
    "        raise Exception('error: list expected') \n",
    "printMinFSM(A4simp)"
   ]
  },
  {
   "cell_type": "markdown",
   "metadata": {},
   "source": [
    "### Animating the Model:"
   ]
  },
  {
   "cell_type": "markdown",
   "metadata": {},
   "source": [
    "In this stage, we define a method for animating the model of the minimized FSM.<br> \n",
    "The method `animateMinFSM(A)` takes a list of strings as input, and calls the previous defined method `printMinFSM(A)` using this input. It iterates through the list of lists outputted from `printMinFSM(A)`, highlighting each old state, transition, and new state in the minimized FSM. "
   ]
  },
  {
   "cell_type": "code",
   "execution_count": 8,
   "metadata": {},
   "outputs": [
    {
     "data": {
      "text/plain": [
       "[['0', 'b', '2'], ['0', 'c', '2']]"
      ]
     },
     "execution_count": 8,
     "metadata": {},
     "output_type": "execute_result"
    }
   ],
   "source": [
    "def animateMinFSM(A):\n",
    "    if type(A) == list: # only proceeds if input is correct type\n",
    "        event = printMinFSM(A) # calls printNFSM(), and uses the output it generates \n",
    "        event.sort(key = lambda event: event[1]) \n",
    "        event = (sorted(event)) \n",
    "        for i in event:\n",
    "            if type(i) == list:# only proceeds if input is list of lists\n",
    "                start = list(A[0].strip(\"{}\")) # list of starting states\n",
    "                final = A[1].replace('{','').replace('}','').split(' ') # list of final states\n",
    "                if i[0] in start: # highlight starting node first \n",
    "                    first = i \n",
    "                    ga_min.highlight_node(i[0]) # highlights old state\n",
    "                    ga_min.next_step()\n",
    "                    ga_min.highlight_edge(i[0],i[2]) # highlights edge \n",
    "                    ga_min.next_step()\n",
    "                    ga_min.highlight_node(i[2]) # highlights new state\n",
    "                    event.remove(i)\n",
    "                    for i in event:\n",
    "                        if i[len(i)-1] not in final:  \n",
    "                            first = i \n",
    "                            ga_min.highlight_node(i[0]) \n",
    "                            ga_min.next_step()\n",
    "                            ga_min.highlight_edge(i[0],i[2]) \n",
    "                            ga_min.next_step()\n",
    "                            ga_min.highlight_node(i[2]) \n",
    "                            event.remove(i)\n",
    "                            for i in event: # highlight final node last  \n",
    "                                ga_min.highlight_node(i[0])\n",
    "                                ga_min.next_step()\n",
    "                                ga_min.highlight_edge(i[0],i[2])\n",
    "                                ga_min.next_step()\n",
    "                                ga_min.highlight_node(i[2])\n",
    "                                ga_min.next_step()\n",
    "                            \n",
    "            else: # returns error message if incorrect type\n",
    "                raise Exception('error: list of strings expected')\n",
    "        return event \n",
    "    else: # returns error message if input type is incorrect\n",
    "        raise Exception('error: list expected') \n",
    "animateMinFSM(A4simp)"
   ]
  },
  {
   "cell_type": "markdown",
   "metadata": {},
   "source": [
    "### Running the Animation:"
   ]
  },
  {
   "cell_type": "markdown",
   "metadata": {},
   "source": [
    "Here, we call the method `interactive()`, which was imported with the module `gvanim`. This method generates the interative animation using the previously defined methods, `printMinFSM()` and `animateMinFSM()`.\n",
    "\n",
    "Move the slider from left to right to view the animation of the minimized FSM. \n",
    "\n",
    "Note: In this animation, the node for '1' is used twice, to represent the transitions '2 c → 1' and '2 b → 1'. "
   ]
  },
  {
   "cell_type": "code",
   "execution_count": 9,
   "metadata": {},
   "outputs": [
    {
     "data": {
      "application/vnd.jupyter.widget-view+json": {
       "model_id": "65cd9504e0a2485eb893ad52bc42cbdf",
       "version_major": 2,
       "version_minor": 0
      },
      "text/plain": [
       "interactive(children=(IntSlider(value=0, description='n', max=10), Output()), _dom_classes=('widget-interact',…"
      ]
     },
     "metadata": {},
     "output_type": "display_data"
    }
   ],
   "source": [
    "interactive( ga_min, 600 )"
   ]
  },
  {
   "cell_type": "code",
   "execution_count": null,
   "metadata": {},
   "outputs": [],
   "source": []
  }
 ],
 "metadata": {
  "kernelspec": {
   "display_name": "Python 3",
   "language": "python",
   "name": "python3"
  },
  "language_info": {
   "codemirror_mode": {
    "name": "ipython",
    "version": 3
   },
   "file_extension": ".py",
   "mimetype": "text/x-python",
   "name": "python",
   "nbconvert_exporter": "python",
   "pygments_lexer": "ipython3",
   "version": "3.8.1"
  }
 },
 "nbformat": 4,
 "nbformat_minor": 4
}
