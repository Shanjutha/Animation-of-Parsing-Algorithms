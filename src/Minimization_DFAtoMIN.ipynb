{
 "cells": [
  {
   "cell_type": "markdown",
   "metadata": {},
   "source": [
    "# Animating the Minimization of Finite State Machines"
   ]
  },
  {
   "cell_type": "markdown",
   "metadata": {},
   "source": [
    "This notebook generates and displays the animation of the minimization of an FSM. After executing each cell, you will be able to view the animation at the end of the notebook."
   ]
  },
  {
   "cell_type": "markdown",
   "metadata": {},
   "source": [
    "Import `gvanim`, which was installed using `pip install GraphvizAnim`. This module is used to generate the interactive animations. "
   ]
  },
  {
   "cell_type": "code",
   "execution_count": 1,
   "metadata": {},
   "outputs": [],
   "source": [
    "from gvanim import Animation\n",
    "from gvanim.jupyter import interactive\n",
    "ga_det = Animation() # variable used to represent the animation "
   ]
  },
  {
   "cell_type": "markdown",
   "metadata": {},
   "source": [
    "In the section below, we introduce all the classes and methods needed to produce a Deterministic Finite State Machine. These methods were referenced from the lecture notes (02 Regular Languages)."
   ]
  },
  {
   "cell_type": "code",
   "execution_count": 2,
   "metadata": {},
   "outputs": [],
   "source": [
    "class FiniteStateMachine:\n",
    "    def __init__(self, T, Q, R, q0, F):\n",
    "        self.T, self.Q, self.R, self.q0, self.F = T, Q, R, q0, F\n",
    "    def __repr__(self):\n",
    "        return str(self.q0) + '\\n' + ' '.join(self.F) + '\\n' + \\\n",
    "               '\\n'.join(r[0] + ' ' + r[1] + ' → ' + r[2] for r in self.R)\n",
    "\n",
    "def parseFSM(fsm: str) -> FiniteStateMachine:\n",
    "    fsm = [line for line in fsm.split('\\n') if line.strip() != '']\n",
    "    q0 = fsm[0].split()[0] # first line: initialstate\n",
    "    F = set(fsm[1].split()) # second line: finalstate, finalstate, ...\n",
    "    R = set()\n",
    "    for line in fsm[2:]: # all subsequent lines: \"source symbol → target\"\n",
    "        l, r = line.split('→')\n",
    "        R |= {(l.split()[0], l.split()[1], r.split()[0])}\n",
    "    T = {r[1] for r in R}\n",
    "    Q = {q0} | F | {r[0] for r in R} | {r[2] for r in R}\n",
    "    return FiniteStateMachine(T, Q, R, q0, F)\n",
    "\n",
    "class Choice:\n",
    "    def __init__(self, e1, e2): self.e1, self.e2 = e1, e2\n",
    "class Conc:\n",
    "    def __init__(self, e1, e2): self.e1, self.e2 = e1, e2\n",
    "class Star:\n",
    "    def __init__(self, e): self.e = e\n",
    "        \n",
    "def syntaxgraph(re):\n",
    "    global node, T\n",
    "    if re == '': return {(None, None)}\n",
    "    elif type(re) == str:\n",
    "        node += 1; T.add(re); return {(None, (re, str(node))), ((re, str(node)), None)}\n",
    "    elif type(re) == Choice:\n",
    "        return syntaxgraph(re.e1) | syntaxgraph(re.e2)\n",
    "    elif type(re) == Conc:\n",
    "        g1, g2 = syntaxgraph(re.e1), syntaxgraph(re.e2)\n",
    "        return {(a, b) for (a, b) in g1 if b} | \\\n",
    "               {(a, b) for (a, b) in g2 if a} | \\\n",
    "               {(a, b) for (a, c) in g1 for (d, b) in g2 if not c and not d}\n",
    "    elif type(re) == Star:\n",
    "        g = syntaxgraph(re.e)\n",
    "        return {(None, None)} | g | \\\n",
    "               {(a, b) for (a, c) in g for (d, b) in g if not c and not d}\n",
    "    else: raise Exception('not a regular expression')\n",
    "        \n",
    "def convertRegExToFSM(re):\n",
    "    global node, T; node, T = 0, set()\n",
    "    g = syntaxgraph(re)\n",
    "    Q = {str(n) for n in range(node + 1)}\n",
    "    R = {('0', b[0], b[1]) for (a, b) in g if not a and b} | \\\n",
    "        {(a[1], b[0], b[1]) for (a, b) in g if a and b}\n",
    "    F = {a[1] for (a, b) in g if a and not b} | ({'0'} if (None, None) in g else set())\n",
    "    return FiniteStateMachine(T, Q, R, '0', F)\n",
    "\n",
    "def string(s: set) -> str:\n",
    "    return '{' + ', '.join(e for e in s) + '}'\n",
    "\n",
    "def deterministicFSM(fsm: FiniteStateMachine) -> FiniteStateMachine:\n",
    "    qq0 = string({fsm.q0})\n",
    "    QQ, RR, visited = {qq0}, set(), set()\n",
    "    #print(QQ, RR, visited)\n",
    "    while visited != QQ:\n",
    "        qq = (QQ - visited).pop(); visited |= {qq}\n",
    "        for t in fsm.T:\n",
    "            rr = {r for (q, u, r) in fsm.R if u == t and q in qq}\n",
    "            if rr != set(): QQ |= {string(rr)}; RR |= {(qq, t, string(rr))}\n",
    "        #print(QQ, RR, visited)\n",
    "    FF = {qq for qq in QQ for f in fsm.F if f in qq}\n",
    "    output = FiniteStateMachine(fsm.T, QQ, RR, qq0, FF)\n",
    "    output = str(output)\n",
    "    return output"
   ]
  },
  {
   "cell_type": "markdown",
   "metadata": {},
   "source": [
    "###### Defining the Nondeterministic FSM "
   ]
  },
  {
   "cell_type": "markdown",
   "metadata": {},
   "source": [
    "First, we need to define the NFA using the methods defined above. We do this by defining a regular expression, and convert that regex into an FSM using `convertRegExToFSM()`. "
   ]
  },
  {
   "cell_type": "code",
   "execution_count": 3,
   "metadata": {},
   "outputs": [
    {
     "data": {
      "text/plain": [
       "0\n",
       "3 6\n",
       "2 b → 3\n",
       "4 c → 6\n",
       "1 b → 3\n",
       "0 a → 1\n",
       "5 c → 6\n",
       "1 a → 2\n",
       "0 a → 4\n",
       "5 a → 5\n",
       "2 a → 2\n",
       "4 a → 5"
      ]
     },
     "execution_count": 3,
     "metadata": {},
     "output_type": "execute_result"
    }
   ],
   "source": [
    "E4 = Choice(Conc(Conc('a', Star('a')), 'b'), Conc(Conc('a', Star('a')), 'c')); A4 = convertRegExToFSM(E4); A4"
   ]
  },
  {
   "cell_type": "markdown",
   "metadata": {},
   "source": [
    "###### Defining the Deterministic FSM "
   ]
  },
  {
   "cell_type": "markdown",
   "metadata": {},
   "source": [
    "Next, we need to define the equivalent DFA for the above NFA. This is done by inputting the NFA into the method `deterministicFSM()`. We then split the DFA into a list of strings. "
   ]
  },
  {
   "cell_type": "code",
   "execution_count": 4,
   "metadata": {},
   "outputs": [
    {
     "name": "stdout",
     "output_type": "stream",
     "text": [
      "{0}\n",
      "{3} {6}\n",
      "{1, 4} a → {5, 2}\n",
      "{0} a → {1, 4}\n",
      "{5, 2} a → {5, 2}\n",
      "{5, 2} b → {3}\n",
      "{1, 4} c → {6}\n",
      "{1, 4} b → {3}\n",
      "{5, 2} c → {6}\n"
     ]
    }
   ],
   "source": [
    "A4det = deterministicFSM(A4); A4det = A4det.splitlines()\n",
    "for i in A4det: \n",
    "    print(i)\n",
    "    \n",
    "# start state = 0 \n",
    "# final states = 3, 6\n",
    "# transitions = a, b, c \n",
    "# all states = 0, 1, 2, 3, 4, 5, 6 "
   ]
  },
  {
   "cell_type": "markdown",
   "metadata": {},
   "source": [
    "In the section below, we introduce the additional classes and methods needed to produce a Minimized Finite State Machine. These methods were referenced from the lecture notes (02 Regular Languages)."
   ]
  },
  {
   "cell_type": "code",
   "execution_count": 5,
   "metadata": {},
   "outputs": [],
   "source": [
    "def deterministicFSM(fsm: FiniteStateMachine) -> FiniteStateMachine:\n",
    "    qq0 = string({fsm.q0})\n",
    "    QQ, RR, visited = {qq0}, set(), set()\n",
    "    #print(QQ, RR, visited)\n",
    "    while visited != QQ:\n",
    "        qq = (QQ - visited).pop(); visited |= {qq}\n",
    "        for t in fsm.T:\n",
    "            rr = {r for (q, u, r) in fsm.R if u == t and q in qq}\n",
    "            if rr != set(): QQ |= {string(rr)}; RR |= {(qq, t, string(rr))}\n",
    "        #print(QQ, RR, visited)\n",
    "    FF = {qq for qq in QQ for f in fsm.F if f in qq}\n",
    "    return FiniteStateMachine(fsm.T, QQ, RR, qq0, FF)\n",
    "\n",
    "\n",
    "def minimizeFSM(fsm: FiniteStateMachine) -> FiniteStateMachine:\n",
    "    nxt = {(q, a): r for (q, a, r) in fsm.R}\n",
    "    dist = {(q, r) for q in fsm.Q for r in fsm.Q if q != r and (q in fsm.F) != (r in fsm.F)}\n",
    "    done = False #; print('initially ', dist)\n",
    "    while not done:\n",
    "        done = True\n",
    "        for q in fsm.Q:\n",
    "            for r in fsm.Q:\n",
    "                if q != r and (q, r) not in dist and any(((q, u) in nxt) != ((r, u) in nxt) or \\\n",
    "                    ((q, u) in nxt) and ((nxt[(q, u)], nxt[(r, u)]) in dist) for u in fsm.T):\n",
    "                    dist |= {(q, r)}; done = False #; print('adding ', q, r)\n",
    "        #print('updated ', dist)\n",
    "    # construct minimal FSM with frozensets as states\n",
    "    QQ = {frozenset({q} | {r for r in fsm.Q if (q, r) not in dist}) for q in fsm.Q}\n",
    "    RR = {(qq, u, rr) for qq in QQ for rr in QQ for u in fsm.T if any((q, u, r) in fsm.R for q in qq for r in rr)}\n",
    "    qq0 = {qq for qq in QQ if any(q in fsm.q0 for q in qq)}.pop()\n",
    "    FF = {qq for qq in QQ if (qq & fsm.F) != set()}\n",
    "    # convert frozensets into strings\n",
    "    QQ = {string(qq) for qq in QQ}\n",
    "    RR = {(string(qq), u, string(rr)) for (qq, u, rr) in RR}\n",
    "    qq0 = string(qq0)\n",
    "    FF = {string(qq) for qq in FF}\n",
    "    output = FiniteStateMachine(fsm.T, QQ, RR, qq0, FF)\n",
    "    output = str(output)\n",
    "    return output\n"
   ]
  },
  {
   "cell_type": "markdown",
   "metadata": {},
   "source": [
    "###### Defining the Minimized FSM \n",
    "\n",
    "Finally, we minimize the DFA using the method `minimizeFSM()`."
   ]
  },
  {
   "cell_type": "code",
   "execution_count": 6,
   "metadata": {},
   "outputs": [
    {
     "name": "stdout",
     "output_type": "stream",
     "text": [
      "Deterministic FSM:\n",
      "{0}\n",
      "{3} {6}\n",
      "{1, 4} a → {5, 2}\n",
      "{0} a → {1, 4}\n",
      "{5, 2} a → {5, 2}\n",
      "{5, 2} b → {3}\n",
      "{1, 4} c → {6}\n",
      "{1, 4} b → {3}\n",
      "{5, 2} c → {6}\n",
      "Minimized FSM:\n",
      "{{0}}\n",
      "{{3}, {6}}\n",
      "{{5, 2}, {1, 4}} c → {{3}, {6}}\n",
      "{{5, 2}, {1, 4}} b → {{3}, {6}}\n",
      "{{5, 2}, {1, 4}} a → {{5, 2}, {1, 4}}\n",
      "{{0}} a → {{5, 2}, {1, 4}}\n"
     ]
    }
   ],
   "source": [
    "print(\"Deterministic FSM:\")\n",
    "for i in range(len(A4det)): \n",
    "    A4det[i] = A4det[i]\n",
    "    print(A4det[i])\n",
    "A4DET2 = deterministicFSM(A4);\n",
    "\n",
    "print(\"Minimized FSM:\")\n",
    "A4min = minimizeFSM(A4DET2); A4min = A4min.splitlines()\n",
    "for i in A4min:\n",
    "    print(i)"
   ]
  },
  {
   "cell_type": "markdown",
   "metadata": {},
   "source": [
    "### Animating the Minimization of Finite State Machine:"
   ]
  },
  {
   "cell_type": "markdown",
   "metadata": {},
   "source": [
    "In this stage, we define a method for animating the minimization of an FSM.<br> \n",
    "The method `convertMIN(DFA, MIN)` takes two input values, both of which are lists of lists. It iterates through both lists, converting each element in the DFA list to the appropriate element in the MIN list. While converting each element, the method makes the corresponding changes to the animation. "
   ]
  },
  {
   "cell_type": "code",
   "execution_count": 7,
   "metadata": {},
   "outputs": [],
   "source": [
    "def convertMIN(DFA,MIN):\n",
    "    eventDFA = [] # order of events for DFA\n",
    "    eventMIN = [] # order of events for MIN\n",
    "    new_stateMIN = [] # list of new states in MIN list\n",
    "    new_stateDFA = [] # list of new states in DFA list\n",
    "    \n",
    "    for i in range(2,len(DFA)):\n",
    "        oldDFA = DFA[i][DFA[i].find(\"{\")+1:DFA[i].find(\"}\")] # old state \n",
    "        end_bracket = (DFA[i].find(\"}\")) # index of first end bracket \n",
    "        transitionDFA = DFA[i][end_bracket+2] # transition \n",
    "        newDFA = DFA[i][end_bracket+6:len(DFA[i])].replace('{','').replace('}','') # new state\n",
    "        # prints model of DFA\n",
    "        ga_det.add_edge(oldDFA,newDFA)\n",
    "        ga_det.label_edge(oldDFA,newDFA,transitionDFA)\n",
    "        eventDFA.append([oldDFA,transitionDFA, newDFA]) # states and transitions in DFA\n",
    "        new_stateDFA.append(newDFA)\n",
    "    ga_det.next_step()\n",
    "    \n",
    "    for i in range(2,len(MIN)):\n",
    "        oldMIN = (MIN[i][MIN[i].find(\"{\")+1:MIN[i].find(\"→\")-4]).replace('{','').replace('}','')\n",
    "        transitionMIN = MIN[i][MIN[i].find(\"→\")-2] \n",
    "        newMIN = (MIN[i][MIN[i].find(\"→\")+2:]).replace('{','').replace('}','') \n",
    "        eventMIN.append([oldMIN,transitionMIN,newMIN])\n",
    "        new_stateMIN.append(newMIN)\n",
    "    eventDFA = sorted(eventDFA)\n",
    "    eventMIN = sorted(eventMIN)\n",
    "    \n",
    "    # iterate through both lists, converting DFA -> MIN\n",
    "    while (eventDFA != eventMIN): # end when both lists are equal \n",
    "        for i in eventDFA:\n",
    "            for j in eventMIN:\n",
    "                if i[0] in j[0] and i[1]==j[1]: # if oldDFA in MIN \n",
    "                    index = (eventDFA.index(i)) # index of value to be replaced with combined state \n",
    "                    ga_det.remove_edge(i[0],i[2]) # remove old edge \n",
    "                    eventDFA[index] = j # replace newDF A with newMIN\n",
    "                    ga_det.add_edge(j[0],j[2]) # add new edge\n",
    "                    ga_det.label_edge(j[0],j[2],j[1])\n",
    "                    ga_det.next_step() \n",
    "        eventDFA = set(map(tuple, eventDFA))\n",
    "        eventDFA = sorted(list(map(list, eventDFA)))\n",
    "        eventMIN = sorted(eventMIN)\n",
    "\n",
    "    # remove unnecessary nodes \n",
    "    new_stateDFA = list(set(new_stateDFA))\n",
    "    for i in new_stateDFA:\n",
    "        if i not in new_stateMIN:\n",
    "            ga_det.remove_node(i)\n",
    "            ga_det.next_step()\n",
    "    \n",
    "convertMIN(A4det, A4min)"
   ]
  },
  {
   "cell_type": "markdown",
   "metadata": {},
   "source": [
    "### Running the Animation of the Minimization of Finite State Machine:"
   ]
  },
  {
   "cell_type": "markdown",
   "metadata": {},
   "source": [
    "Here, we call the method `interactive()`, which was imported with the module `gvanim`. This method generates the interactive animation using the previously defined methods, `convertMIN()`.\n",
    "\n",
    "Move the slider from left to right to view the animation of the minimization of the DFA.\n",
    "\n",
    "Note: In this animation, the node for '6,3' is used twice, to represent the transitions '4,1,5,2 c → 1' and '4,1,5,2 b → 1'. The edges overlap, so it appears as if only one edge is displayed. "
   ]
  },
  {
   "cell_type": "code",
   "execution_count": 8,
   "metadata": {},
   "outputs": [
    {
     "data": {
      "application/vnd.jupyter.widget-view+json": {
       "model_id": "2eccf21d275c48af9531a6a748d7780a",
       "version_major": 2,
       "version_minor": 0
      },
      "text/plain": [
       "interactive(children=(IntSlider(value=0, description='n', max=12), Output()), _dom_classes=('widget-interact',…"
      ]
     },
     "metadata": {},
     "output_type": "display_data"
    }
   ],
   "source": [
    "interactive(ga_det,600)"
   ]
  },
  {
   "cell_type": "code",
   "execution_count": null,
   "metadata": {},
   "outputs": [],
   "source": []
  },
  {
   "cell_type": "code",
   "execution_count": null,
   "metadata": {},
   "outputs": [],
   "source": []
  }
 ],
 "metadata": {
  "kernelspec": {
   "display_name": "Python 3",
   "language": "python",
   "name": "python3"
  },
  "language_info": {
   "codemirror_mode": {
    "name": "ipython",
    "version": 3
   },
   "file_extension": ".py",
   "mimetype": "text/x-python",
   "name": "python",
   "nbconvert_exporter": "python",
   "pygments_lexer": "ipython3",
   "version": "3.8.1"
  }
 },
 "nbformat": 4,
 "nbformat_minor": 4
}
