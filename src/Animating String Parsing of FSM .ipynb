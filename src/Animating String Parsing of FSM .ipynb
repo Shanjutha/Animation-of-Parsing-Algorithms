{
 "cells": [
  {
   "cell_type": "markdown",
   "metadata": {},
   "source": [
    "# Animating String Parsing of Deterministic Finite State Machines "
   ]
  },
  {
   "cell_type": "markdown",
   "metadata": {},
   "source": [
    "### Defining the Deterministic FSM "
   ]
  },
  {
   "cell_type": "code",
   "execution_count": 1,
   "metadata": {},
   "outputs": [],
   "source": [
    "from fysom import Fysom\n",
    "from gvanim import Animation\n",
    "from gvanim.jupyter import interactive\n",
    "ga = Animation()\n",
    "from itertools import cycle\n",
    "\n",
    "fsm = Fysom({\n",
    "    'initial': 'A',\n",
    "    'events': [ #names are the node labels, src is the source of the edge and dst is the desination of the edge.\n",
    "        {'name': 'b', 'src': 'A', 'dst': 'B'},\n",
    "        {'name': 'c', 'src': 'B', 'dst': 'C'},\n",
    "        {'name': 'd', 'src': 'C', 'dst': 'D'},\n",
    "        {'name': 'a', 'src': 'B', 'dst': 'A'}, \n",
    "    ]\n",
    "})"
   ]
  },
  {
   "cell_type": "markdown",
   "metadata": {},
   "source": [
    "### Printing the Model:"
   ]
  },
  {
   "cell_type": "code",
   "execution_count": 2,
   "metadata": {},
   "outputs": [
    {
     "name": "stdout",
     "output_type": "stream",
     "text": [
      "dictionary FROM content\n",
      "startup start\n",
      "b A\n",
      "c B\n",
      "d C\n",
      "a B\n",
      "dictionary To content\n",
      "startup A\n",
      "b B\n",
      "c C\n",
      "d D\n",
      "a A\n"
     ]
    }
   ],
   "source": [
    "DictFrom = {} #dictionary containing all the transitions and the node they are from\n",
    "DictTo = {} #dictionary containing all the transitions and the node they are going to\n",
    "def printFSM(fsm):\n",
    "    foo ='none' \n",
    "    for event, transitions in fsm._map.items(): #iterating through the defined state machine (fsm)\n",
    "        for from_state, to_state in transitions.items():\n",
    "            #print(from_state,to_state,event)\n",
    "            if from_state == foo:                #the starting state is none automatically, I change it to start \n",
    "                from_state = 'start'          \n",
    "                ga.add_edge(from_state, to_state) #adding the edges and their labels to the model\n",
    "                ga.label_edge(from_state, to_state, event)\n",
    "                DictFrom.update( {event : from_state} )     #updating the dictionarues to contain the newly added node and edge\n",
    "                DictTo.update( {event : to_state} )\n",
    "            \n",
    "            else: # for all other nodes other then the starting node add the edges and their labels to the model\n",
    "                ga.add_edge(from_state, to_state)\n",
    "                ga.label_edge(from_state, to_state, event)\n",
    "                DictFrom.update( {event :from_state} )\n",
    "                DictTo.update( {event : to_state} )\n",
    "                \n",
    "    print(\"dictionary FROM content\")\n",
    "    for (key, value) in DictFrom.items() :\n",
    "        print(key , value )\n",
    "    print(\"dictionary To content\")\n",
    "    for (key, value) in DictTo.items() :\n",
    "        print(key , value )\n",
    "printFSM(fsm)"
   ]
  },
  {
   "cell_type": "markdown",
   "metadata": {},
   "source": [
    "### Animating the Model using the Given Sentence:"
   ]
  },
  {
   "cell_type": "markdown",
   "metadata": {},
   "source": [
    "##### this method also checks if the sentence entered is valid and can be parsed by the FSM"
   ]
  },
  {
   "cell_type": "code",
   "execution_count": 3,
   "metadata": {},
   "outputs": [
    {
     "name": "stdout",
     "output_type": "stream",
     "text": [
      "Success! string bcd input is parsable using this FSM! \n"
     ]
    },
    {
     "data": {
      "text/plain": [
       "1"
      ]
     },
     "execution_count": 3,
     "metadata": {},
     "output_type": "execute_result"
    }
   ],
   "source": [
    "def animateSentence(SentenceStringVALID):\n",
    "    pathVALID = list(SentenceStringVALID)  #takes the input string and turns it into a list\n",
    "    if pathVALID[0] != \"b\":               # if string not starting from start\n",
    "        print(\"NOT VALID STRING!  \")\n",
    "        return(-1)\n",
    "    if pathVALID[-1] != \"d\":               # if string not starting from start\n",
    "        print(\"NOT VALID STRING!  \")\n",
    "        return(-1)\n",
    "    if pathVALID[-2] != \"c\":               # if string not starting from start\n",
    "        print(\"NOT VALID STRING!  \")\n",
    "        return(-1)\n",
    "    for cur, nxt in zip (pathVALID, pathVALID [1:] ): #iterantes through list and the next element in the list\n",
    "        s = 'abcdefghijklmnopqrstuvwxyz'\n",
    "        if cur == pathVALID[0]:                       #animating the sart node\n",
    "            ga.highlight_node(\"start\")\n",
    "            ga.highlight_edge(\"start\", \"A\")\n",
    "        TRANS= cur.lower()                          #Defining To, From, transition to be checked with the Dictionary content\n",
    "        FROM = s[s.find(cur)  - 1]\n",
    "        FROM = FROM.upper()\n",
    "        if cur == \"a\":\n",
    "            FROM = s[s.find(cur)  + 1]\n",
    "            FROM = FROM.upper()\n",
    "        TO = cur.upper()\n",
    "        ga.next_step()\n",
    "        if (TRANS in DictTo and TO == DictTo[TRANS]) and (TRANS in DictFrom and FROM == DictFrom[TRANS]):\n",
    "            #print(\"Possible- using transition \" + TRANS+ \" to get to \"+ TO)      \n",
    "            ga.highlight_node(FROM)\n",
    "            ga.highlight_edge(FROM, TO)\n",
    "            if nxt == pathVALID[-1]:              ##to highlight the last node \n",
    "                ga.next_step() \n",
    "                ga.highlight_node(\"C\")\n",
    "                ga.highlight_edge(\"C\", \"D\")\n",
    "                ga.next_step()   \n",
    "                ga.highlight_node(\"D\")\n",
    "        else: \n",
    "            print(\"NOT VALID STRING!  you cant use this string \")\n",
    "            print(\"From: \" +FROM+\", Transition: \" +TRANS+\", TO: \"+TO)\n",
    "            return(-1)\n",
    "    print(\"Success! string \" +SentenceStringVALID+\" input is parsable using this FSM! \")      \n",
    "    return(1)\n",
    "\n",
    "SentenceStringVALID = \"bcd\"  #sentence entered by the user to be parsed and animated\n",
    "animateSentence(SentenceStringVALID)"
   ]
  },
  {
   "cell_type": "markdown",
   "metadata": {},
   "source": [
    "### Running the Animation:"
   ]
  },
  {
   "cell_type": "code",
   "execution_count": 4,
   "metadata": {},
   "outputs": [
    {
     "data": {
      "application/vnd.jupyter.widget-view+json": {
       "model_id": "0ccf9635a7bd46f783b337c6febadfb1",
       "version_major": 2,
       "version_minor": 0
      },
      "text/plain": [
       "interactive(children=(IntSlider(value=0, description='n', max=4), Output()), _dom_classes=('widget-interact',)…"
      ]
     },
     "metadata": {},
     "output_type": "display_data"
    }
   ],
   "source": [
    "interactive( ga, 400 )"
   ]
  },
  {
   "cell_type": "markdown",
   "metadata": {},
   "source": []
  },
  {
   "cell_type": "code",
   "execution_count": 5,
   "metadata": {},
   "outputs": [],
   "source": [
    "# Testing Animation with different sentences"
   ]
  },
  {
   "cell_type": "code",
   "execution_count": 6,
   "metadata": {},
   "outputs": [],
   "source": [
    "#### THe following tests should return true (1)"
   ]
  },
  {
   "cell_type": "code",
   "execution_count": 7,
   "metadata": {
    "scrolled": true
   },
   "outputs": [
    {
     "name": "stdout",
     "output_type": "stream",
     "text": [
      "Success! string bcd input is parsable using this FSM! \n",
      "Success! string babcd input is parsable using this FSM! \n",
      "Success! string bababcd input is parsable using this FSM! \n",
      "Success! string babababababababcd input is parsable using this FSM! \n",
      "Success! string babababababababcd input is parsable using this FSM! \n"
     ]
    }
   ],
   "source": [
    "from nose.tools import assert_equal\n",
    "\n",
    "Sentence6 = \"bcd\" \n",
    "assert_equal(animateSentence(Sentence6), 1)\n",
    "\n",
    "Sentence8 = \"babcd\" \n",
    "assert_equal(animateSentence(Sentence8), 1)\n",
    "\n",
    "\n",
    "Sentence10 = \"bababcd\" \n",
    "assert_equal(animateSentence(Sentence10), 1)\n",
    "\n",
    "Sentence10 = \"babababababababcd\" \n",
    "assert_equal(animateSentence(Sentence10), 1)\n",
    "\n",
    "Sentence11 = \"babababababababcd\" \n",
    "assert_equal(animateSentence(Sentence11), 1)\n"
   ]
  },
  {
   "cell_type": "code",
   "execution_count": 8,
   "metadata": {},
   "outputs": [],
   "source": [
    "#### The following tests should return false (-1)"
   ]
  },
  {
   "cell_type": "code",
   "execution_count": 9,
   "metadata": {},
   "outputs": [
    {
     "name": "stdout",
     "output_type": "stream",
     "text": [
      "NOT VALID STRING!  \n",
      "NOT VALID STRING!  \n",
      "NOT VALID STRING!  \n",
      "NOT VALID STRING!  \n",
      "NOT VALID STRING!  \n",
      "NOT VALID STRING!  \n",
      "NOT VALID STRING!  \n",
      "NOT VALID STRING!  \n",
      "NOT VALID STRING!  \n",
      "NOT VALID STRING!  \n",
      "NOT VALID STRING!  \n",
      "NOT VALID STRING!  \n",
      "NOT VALID STRING!  \n"
     ]
    }
   ],
   "source": [
    "Sentence2 = \"b\" \n",
    "assert_equal(animateSentence(Sentence2), -1)\n",
    "\n",
    "Sentence3 = \"ba\" \n",
    "assert_equal(animateSentence(Sentence3), -1)\n",
    "\n",
    "Sentence4 = \"bab\" \n",
    "assert_equal(animateSentence(Sentence4), -1)\n",
    "\n",
    "Sentence5 = \"babab\" \n",
    "assert_equal(animateSentence(Sentence5), -1)\n",
    "\n",
    "Sentence7 = \"babc\" \n",
    "assert_equal(animateSentence(Sentence7), -1)\n",
    "\n",
    "Sentence9 = \"bababc\" \n",
    "assert_equal(animateSentence(Sentence9), -1)\n",
    "\n",
    "Sentence12 = \"bc\" \n",
    "assert_equal(animateSentence(Sentence12), -1)\n",
    "\n",
    "Sentence13 = \"a\" \n",
    "assert_equal(animateSentence(Sentence13), -1)\n",
    "\n",
    "Sentence14 = \"c\" \n",
    "assert_equal(animateSentence(Sentence14), -1)\n",
    "\n",
    "Sentence15 = \"d\" \n",
    "assert_equal(animateSentence(Sentence15), -1)\n",
    "\n",
    "Sentence16 = \"ac\" \n",
    "assert_equal(animateSentence(Sentence16), -1)\n",
    "\n",
    "Sentence17 = \"cd\" \n",
    "assert_equal(animateSentence(Sentence17), -1)\n",
    "\n",
    "Sentence18 = \"da\" \n",
    "assert_equal(animateSentence(Sentence18), -1)"
   ]
  },
  {
   "cell_type": "markdown",
   "metadata": {},
   "source": [
    "### Testing time efficiency of string parsing"
   ]
  },
  {
   "cell_type": "code",
   "execution_count": 10,
   "metadata": {},
   "outputs": [
    {
     "name": "stdout",
     "output_type": "stream",
     "text": [
      "Time:  1.2984684190000007\n"
     ]
    }
   ],
   "source": [
    "import timeit\n",
    "start = timeit.default_timer()\n",
    "interactive( ga, 400 )\n",
    "stop = timeit.default_timer()\n",
    "A= stop-start\n",
    "print(\"Time: \", A)"
   ]
  },
  {
   "cell_type": "code",
   "execution_count": 11,
   "metadata": {},
   "outputs": [
    {
     "name": "stdout",
     "output_type": "stream",
     "text": [
      "Time:  1.740264185\n"
     ]
    }
   ],
   "source": [
    "start = timeit.default_timer()\n",
    "interactive( ga, 400 )\n",
    "stop = timeit.default_timer()\n",
    "B= stop-start\n",
    "print(\"Time: \", B)"
   ]
  },
  {
   "cell_type": "code",
   "execution_count": 12,
   "metadata": {},
   "outputs": [
    {
     "name": "stdout",
     "output_type": "stream",
     "text": [
      "Time:  1.2541706650000002\n"
     ]
    }
   ],
   "source": [
    "start = timeit.default_timer()\n",
    "interactive( ga, 400 )\n",
    "stop = timeit.default_timer()\n",
    "B= stop-start\n",
    "print(\"Time: \", B)"
   ]
  },
  {
   "cell_type": "code",
   "execution_count": 13,
   "metadata": {},
   "outputs": [
    {
     "name": "stdout",
     "output_type": "stream",
     "text": [
      "Time:  1.2571637940000002\n"
     ]
    }
   ],
   "source": [
    "start = timeit.default_timer()\n",
    "interactive( ga, 400 )\n",
    "stop = timeit.default_timer()\n",
    "C= stop-start\n",
    "print(\"Time: \", C)"
   ]
  },
  {
   "cell_type": "code",
   "execution_count": 14,
   "metadata": {},
   "outputs": [
    {
     "name": "stdout",
     "output_type": "stream",
     "text": [
      "Time:  1.227808242\n"
     ]
    }
   ],
   "source": [
    "start = timeit.default_timer()\n",
    "interactive( ga, 400 )\n",
    "stop = timeit.default_timer()\n",
    "D= stop-start\n",
    "print(\"Time: \", D)"
   ]
  },
  {
   "cell_type": "code",
   "execution_count": 15,
   "metadata": {},
   "outputs": [
    {
     "name": "stdout",
     "output_type": "stream",
     "text": [
      "Time:  1.267174708999999\n"
     ]
    }
   ],
   "source": [
    "start = timeit.default_timer()\n",
    "interactive( ga, 400 )\n",
    "stop = timeit.default_timer()\n",
    "E= stop-start\n",
    "print(\"Time: \", E)"
   ]
  },
  {
   "cell_type": "code",
   "execution_count": 16,
   "metadata": {},
   "outputs": [
    {
     "name": "stdout",
     "output_type": "stream",
     "text": [
      "Average Runtime(s):  1.2609571658\n"
     ]
    }
   ],
   "source": [
    "average = (A + B + C + D + E)/5\n",
    "print('Average Runtime(s): ', average)"
   ]
  },
  {
   "cell_type": "code",
   "execution_count": null,
   "metadata": {},
   "outputs": [],
   "source": []
  },
  {
   "cell_type": "code",
   "execution_count": null,
   "metadata": {},
   "outputs": [],
   "source": []
  },
  {
   "cell_type": "code",
   "execution_count": null,
   "metadata": {},
   "outputs": [],
   "source": []
  }
 ],
 "metadata": {
  "kernelspec": {
   "display_name": "Python 3",
   "language": "python",
   "name": "python3"
  },
  "language_info": {
   "codemirror_mode": {
    "name": "ipython",
    "version": 3
   },
   "file_extension": ".py",
   "mimetype": "text/x-python",
   "name": "python",
   "nbconvert_exporter": "python",
   "pygments_lexer": "ipython3",
   "version": "3.8.1"
  }
 },
 "nbformat": 4,
 "nbformat_minor": 4
}
